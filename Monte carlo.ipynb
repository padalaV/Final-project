{
 "cells": [
  {
   "cell_type": "markdown",
   "metadata": {},
   "source": [
    "## Calculating the return on investment in S&P 500 stocks.\n",
    "Hypothesis: The returns on investment taking into account, the uncertainity in market returns will be higher than the traditional calculation of returns\n",
    "\n",
    "Completed:\n",
    "Initial program draft .\n",
    "Pending: \n",
    "Doc tests, doc strings and writing classes where appropriate"
   ]
  },
  {
   "cell_type": "code",
   "execution_count": 1,
   "metadata": {
    "collapsed": false
   },
   "outputs": [],
   "source": [
    "# 1.Import needed libraries, set plots to display in notebook\n",
    "\n",
    "import numpy as np\n",
    "from pandas import Series, DataFrame\n",
    "%matplotlib inline\n",
    "import matplotlib.pyplot as plots\n"
   ]
  },
  {
   "cell_type": "code",
   "execution_count": 2,
   "metadata": {
    "collapsed": false
   },
   "outputs": [],
   "source": [
    "# 2. Regular bank savings  approach for 30 year period.\n",
    "# The average expected return for the stock is  0.7 which is taken as the interest rate. \n"
   ]
  },
  {
   "cell_type": "code",
   "execution_count": 3,
   "metadata": {
    "collapsed": false
   },
   "outputs": [],
   "source": [
    "def calculate_savings ( ):\n",
    "    \"\"\"\n",
    "    This function calculates the returns at the end of a given time period in the traditional savings bank approach.\n",
    "    \n",
    "    User Inputs:\n",
    "    principal: The initial amount a user wants to invest at the beginning-->integer\n",
    "    time Period: The time for which the user wants to know the returns with interest-->integer\n",
    "    annual_add: The amount added to savings each year--> integer\n",
    "    interest: Rate of interest for savings bank. --> float.\n",
    "    Note: If you would like to compare returns from bank and a particular stock ,\n",
    "    please use the stock's average expected returns as the rate of interest for bank.\n",
    "    \n",
    "    \n",
    "    Returned values: A dictionary with keys p,t, aa for principal. time period and annual additions--> Dictionary\n",
    "    \n",
    "    \"\"\"        \n",
    "    \n",
    "    principal = int(input (\"Please enter the initial amount you want to invest:  \"))\n",
    "     time_period = int(input (\"Please enter the time period you want to calculate returns for:  \"))\n",
    "     annual_add = int(input (\"Please enter the amount to be added every year, if none, enter 0:  \"))  \n",
    "     interest = float(input (\"Please enter the interest rate in percentage. Note : If you would like to compare with S&P stock returns, The average s&p returns rate is 7%:  \"))\n",
    "     for year in range(time_period):\n",
    "            ending = (principal) * (1+interest/100) + annual_add\n",
    "            print((ending))\n",
    "            principal = ending\n",
    "     \n",
    "     return({'p':principal,'t':time_period, 'aa':annual_add})\n",
    "    \n",
    "\n",
    "     \n",
    "\n",
    "     \n",
    "    \n",
    "\n"
   ]
  },
  {
   "cell_type": "code",
   "execution_count": 4,
   "metadata": {
    "collapsed": false
   },
   "outputs": [
    {
     "name": "stdout",
     "output_type": "stream",
     "text": [
      "Please enter the initial amount you want to invest:  10000\n",
      "Please enter the time period you want to calculate returns for:  30\n",
      "Please enter the amount to be added every year, if none, enter 0:  10000\n",
      "Please enter the interest rate in percentage. Note : If you would like to compare with S&P stock returns, The average s&p returns rate is 7%:  7\n",
      "20700.0\n",
      "32149.0\n",
      "44399.43\n",
      "57507.390100000004\n",
      "71532.907407\n",
      "86540.21092549001\n",
      "102598.02569027431\n",
      "119779.88748859352\n",
      "138164.47961279508\n",
      "157835.99318569075\n",
      "178884.51270868912\n",
      "201406.42859829735\n",
      "225504.87860017817\n",
      "251290.22010219065\n",
      "278880.535509344\n",
      "308402.1729949981\n",
      "339990.325104648\n",
      "373789.6478619734\n",
      "409954.9232123115\n",
      "448651.76783717336\n",
      "490057.39158577553\n",
      "534361.4089967798\n",
      "581766.7076265544\n",
      "632490.3771604133\n",
      "686764.7035616423\n",
      "744838.2328109574\n",
      "806976.9091077244\n",
      "873465.2927452652\n",
      "944607.8632374338\n",
      "1020730.4136640542\n",
      "{'p': 1020730.4136640542, 't': 30, 'aa': 10000}\n"
     ]
    }
   ],
   "source": [
    "# Calling function and saving it's result in a variable\n",
    "savings=calculate_savings()\n",
    "print( savings)\n",
    "\n",
    "\n"
   ]
  },
  {
   "cell_type": "code",
   "execution_count": 5,
   "metadata": {
    "collapsed": true
   },
   "outputs": [],
   "source": [
    "def stock_returns(expected_return,volatality,initial):\n",
    "    \"\"\"\n",
    "    Calculates returns from a particular stock based on the time period,  annual additions and  principal amount specified\n",
    "    for savings approach.\n",
    "    \n",
    "    Argument list:\n",
    "    expected_return: Average expected return for the stock\n",
    "    volatality: Average volatality of the stock, i.e variance of the expected returns \n",
    "    initial: Initial amount being invested.\n",
    "    \n",
    "    \"\"\"\n",
    "    print(\"\\tReturn\", \"\\t\\tEnding Value\".rjust(18))\n",
    "    for year in range(savings['t']):\n",
    "            market_return = np.random.normal(expected_return, volatality)\n",
    "            fv = initial * (1 + market_return) + savings['aa']\n",
    "            print(\"\\t{}\".ljust(10).format(round(market_return,4)), \"\\t{}\".rjust(10).format(fv))\n",
    "            initial = fv\n",
    "\n",
    "\n"
   ]
  },
  {
   "cell_type": "code",
   "execution_count": 6,
   "metadata": {
    "collapsed": false
   },
   "outputs": [
    {
     "name": "stdout",
     "output_type": "stream",
     "text": [
      "\tReturn     \t\tEnding Value\n",
      "\t0.0455               \t20454.81540724602\n",
      "\t0.2599               \t35770.91697179779\n",
      "\t0.26               \t55071.405584836015\n",
      "\t-0.0497               \t62333.247812605456\n",
      "\t0.0094               \t72919.00619825005\n",
      "\t0.1518               \t93991.55018618758\n",
      "\t0.0397               \t107721.78198784802\n",
      "\t-0.0162               \t115978.54233230503\n",
      "\t0.3082               \t161722.26426705526\n",
      "\t0.3655               \t230823.78136462046\n",
      "\t0.1737               \t280926.5613122582\n",
      "\t0.1006               \t319190.86572978727\n",
      "\t0.2032               \t394056.45740280376\n",
      "\t-0.2881               \t290510.5315660565\n",
      "\t0.1813               \t353177.85036623763\n",
      "\t-0.1123               \t323503.211282903\n",
      "\t0.0745               \t357611.8247055556\n",
      "\t0.0471               \t384461.574364174\n",
      "\t0.2004               \t471507.7397806343\n",
      "\t0.1428               \t548852.3627258498\n",
      "\t0.06               \t591807.8199442\n",
      "\t0.2336               \t740061.6323689303\n",
      "\t0.0212               \t765727.516048379\n",
      "\t-0.2757               \t564587.8987237313\n",
      "\t0.0151               \t583089.0727797196\n",
      "\t0.1189               \t662435.0885649045\n",
      "\t0.2569               \t842631.3660607499\n",
      "\t0.0836               \t923108.3594760582\n",
      "\t-0.0505               \t886534.4138951291\n",
      "\t0.1689               \t1046289.4033426826\n"
     ]
    }
   ],
   "source": [
    "stock_returns(0.07,.14,10000)\n"
   ]
  },
  {
   "cell_type": "markdown",
   "metadata": {
    "collapsed": true
   },
   "source": [
    "## Average volatility is 14.4%\n"
   ]
  },
  {
   "cell_type": "code",
   "execution_count": 7,
   "metadata": {
    "collapsed": false
   },
   "outputs": [],
   "source": [
    "# 4. Simulate portfolio ending market values \n",
    "\n",
    "\"\"\"\n",
    "Uses Monte Carlo simulation to simulate the stock returns over the given time period\n",
    "\n",
    "Argument list:\n",
    "expected_ return: Average expected return for the stock\n",
    "volatality: Average volatality of the stock, i.e variance of the expected returns \n",
    "iterations: Number of independent trials to be conducted for calculating expected returns\n",
    "add: Annual additions to each years starting maount.    \n",
    "    \n",
    "\"\"\"\n",
    "def simulations(iterations, expected_return, volatility, add):\n",
    " sim = DataFrame()\n",
    " \n",
    " for x in range(iterations):\n",
    "        stream = []\n",
    "        initial= savings['p']\n",
    "        for i in range(savings['t']):\n",
    "          end = round(initial * (1 + np.random.normal(expected_return,volatility)) + add,2)\n",
    "          stream.append(end)\n",
    "          initial= end\n",
    "        sim[x] = stream\n",
    " return(sim)\n",
    "    "
   ]
  },
  {
   "cell_type": "code",
   "execution_count": 8,
   "metadata": {
    "collapsed": false
   },
   "outputs": [],
   "source": [
    "simulated=simulations(5000, 0.07, .14, 10000)\n"
   ]
  },
  {
   "cell_type": "code",
   "execution_count": 9,
   "metadata": {
    "collapsed": false
   },
   "outputs": [
    {
     "data": {
      "text/html": [
       "<div>\n",
       "<table border=\"1\" class=\"dataframe\">\n",
       "  <thead>\n",
       "    <tr style=\"text-align: right;\">\n",
       "      <th></th>\n",
       "      <th>0</th>\n",
       "      <th>1</th>\n",
       "      <th>2</th>\n",
       "      <th>3</th>\n",
       "      <th>4</th>\n",
       "    </tr>\n",
       "  </thead>\n",
       "  <tbody>\n",
       "    <tr>\n",
       "      <th>0</th>\n",
       "      <td>1085076.25</td>\n",
       "      <td>872705.40</td>\n",
       "      <td>1205565.47</td>\n",
       "      <td>1231629.01</td>\n",
       "      <td>1127170.23</td>\n",
       "    </tr>\n",
       "    <tr>\n",
       "      <th>1</th>\n",
       "      <td>1297526.30</td>\n",
       "      <td>950091.96</td>\n",
       "      <td>1446622.46</td>\n",
       "      <td>1213357.51</td>\n",
       "      <td>1331687.56</td>\n",
       "    </tr>\n",
       "    <tr>\n",
       "      <th>2</th>\n",
       "      <td>1632908.55</td>\n",
       "      <td>1054345.66</td>\n",
       "      <td>1476040.27</td>\n",
       "      <td>1385761.73</td>\n",
       "      <td>1606548.65</td>\n",
       "    </tr>\n",
       "    <tr>\n",
       "      <th>3</th>\n",
       "      <td>1582922.20</td>\n",
       "      <td>1104466.40</td>\n",
       "      <td>1358897.01</td>\n",
       "      <td>1206628.90</td>\n",
       "      <td>1454186.94</td>\n",
       "    </tr>\n",
       "    <tr>\n",
       "      <th>4</th>\n",
       "      <td>1929564.75</td>\n",
       "      <td>1239147.45</td>\n",
       "      <td>1408728.35</td>\n",
       "      <td>1193792.66</td>\n",
       "      <td>1294015.10</td>\n",
       "    </tr>\n",
       "    <tr>\n",
       "      <th>5</th>\n",
       "      <td>2186958.53</td>\n",
       "      <td>1425427.45</td>\n",
       "      <td>1671144.44</td>\n",
       "      <td>1191811.69</td>\n",
       "      <td>1287773.25</td>\n",
       "    </tr>\n",
       "    <tr>\n",
       "      <th>6</th>\n",
       "      <td>2550283.91</td>\n",
       "      <td>1483942.11</td>\n",
       "      <td>1299526.84</td>\n",
       "      <td>1377335.94</td>\n",
       "      <td>1409038.38</td>\n",
       "    </tr>\n",
       "    <tr>\n",
       "      <th>7</th>\n",
       "      <td>2987456.40</td>\n",
       "      <td>1920992.92</td>\n",
       "      <td>1518250.36</td>\n",
       "      <td>1292724.45</td>\n",
       "      <td>1644639.84</td>\n",
       "    </tr>\n",
       "    <tr>\n",
       "      <th>8</th>\n",
       "      <td>2955870.61</td>\n",
       "      <td>1855884.59</td>\n",
       "      <td>1333944.41</td>\n",
       "      <td>1439093.72</td>\n",
       "      <td>1658345.32</td>\n",
       "    </tr>\n",
       "    <tr>\n",
       "      <th>9</th>\n",
       "      <td>2885906.20</td>\n",
       "      <td>1628524.64</td>\n",
       "      <td>1418562.34</td>\n",
       "      <td>1623999.62</td>\n",
       "      <td>1610559.00</td>\n",
       "    </tr>\n",
       "    <tr>\n",
       "      <th>10</th>\n",
       "      <td>3521072.73</td>\n",
       "      <td>2033273.26</td>\n",
       "      <td>1533295.47</td>\n",
       "      <td>1617449.28</td>\n",
       "      <td>1940200.91</td>\n",
       "    </tr>\n",
       "    <tr>\n",
       "      <th>11</th>\n",
       "      <td>3068130.06</td>\n",
       "      <td>2736639.96</td>\n",
       "      <td>1715771.95</td>\n",
       "      <td>1667059.86</td>\n",
       "      <td>2220623.16</td>\n",
       "    </tr>\n",
       "    <tr>\n",
       "      <th>12</th>\n",
       "      <td>4437501.10</td>\n",
       "      <td>3130791.31</td>\n",
       "      <td>1488172.27</td>\n",
       "      <td>1628480.74</td>\n",
       "      <td>2635578.58</td>\n",
       "    </tr>\n",
       "    <tr>\n",
       "      <th>13</th>\n",
       "      <td>5186439.53</td>\n",
       "      <td>3710613.39</td>\n",
       "      <td>1382617.30</td>\n",
       "      <td>1743686.24</td>\n",
       "      <td>2982208.00</td>\n",
       "    </tr>\n",
       "    <tr>\n",
       "      <th>14</th>\n",
       "      <td>6924127.21</td>\n",
       "      <td>5152574.26</td>\n",
       "      <td>1636845.88</td>\n",
       "      <td>1622359.25</td>\n",
       "      <td>3245258.36</td>\n",
       "    </tr>\n",
       "    <tr>\n",
       "      <th>15</th>\n",
       "      <td>7516237.00</td>\n",
       "      <td>4878920.08</td>\n",
       "      <td>2034950.57</td>\n",
       "      <td>1845861.46</td>\n",
       "      <td>3615783.67</td>\n",
       "    </tr>\n",
       "    <tr>\n",
       "      <th>16</th>\n",
       "      <td>9557039.77</td>\n",
       "      <td>5055760.84</td>\n",
       "      <td>1884579.47</td>\n",
       "      <td>2085285.95</td>\n",
       "      <td>4007821.56</td>\n",
       "    </tr>\n",
       "    <tr>\n",
       "      <th>17</th>\n",
       "      <td>10100967.16</td>\n",
       "      <td>5405653.43</td>\n",
       "      <td>2491656.02</td>\n",
       "      <td>2215103.01</td>\n",
       "      <td>4134298.00</td>\n",
       "    </tr>\n",
       "    <tr>\n",
       "      <th>18</th>\n",
       "      <td>10388730.79</td>\n",
       "      <td>3727968.75</td>\n",
       "      <td>2457237.53</td>\n",
       "      <td>2264592.61</td>\n",
       "      <td>4978950.89</td>\n",
       "    </tr>\n",
       "    <tr>\n",
       "      <th>19</th>\n",
       "      <td>12813879.39</td>\n",
       "      <td>4111181.32</td>\n",
       "      <td>2443580.24</td>\n",
       "      <td>2597002.10</td>\n",
       "      <td>5895547.16</td>\n",
       "    </tr>\n",
       "    <tr>\n",
       "      <th>20</th>\n",
       "      <td>12940712.41</td>\n",
       "      <td>4536322.29</td>\n",
       "      <td>2751480.01</td>\n",
       "      <td>2087324.83</td>\n",
       "      <td>6732954.79</td>\n",
       "    </tr>\n",
       "    <tr>\n",
       "      <th>21</th>\n",
       "      <td>14540956.19</td>\n",
       "      <td>5034268.64</td>\n",
       "      <td>2835382.92</td>\n",
       "      <td>1936739.15</td>\n",
       "      <td>9478874.98</td>\n",
       "    </tr>\n",
       "    <tr>\n",
       "      <th>22</th>\n",
       "      <td>10125615.69</td>\n",
       "      <td>5234023.78</td>\n",
       "      <td>3417685.24</td>\n",
       "      <td>1644127.72</td>\n",
       "      <td>10754867.43</td>\n",
       "    </tr>\n",
       "    <tr>\n",
       "      <th>23</th>\n",
       "      <td>12957768.19</td>\n",
       "      <td>4315199.71</td>\n",
       "      <td>3959133.91</td>\n",
       "      <td>1702084.05</td>\n",
       "      <td>11891729.06</td>\n",
       "    </tr>\n",
       "    <tr>\n",
       "      <th>24</th>\n",
       "      <td>14499118.43</td>\n",
       "      <td>4789536.09</td>\n",
       "      <td>3582973.67</td>\n",
       "      <td>1609115.06</td>\n",
       "      <td>8773983.07</td>\n",
       "    </tr>\n",
       "    <tr>\n",
       "      <th>25</th>\n",
       "      <td>13412452.16</td>\n",
       "      <td>6249133.55</td>\n",
       "      <td>3697386.12</td>\n",
       "      <td>1736390.99</td>\n",
       "      <td>8823801.84</td>\n",
       "    </tr>\n",
       "    <tr>\n",
       "      <th>26</th>\n",
       "      <td>14372620.42</td>\n",
       "      <td>7423308.60</td>\n",
       "      <td>4654500.12</td>\n",
       "      <td>1635818.96</td>\n",
       "      <td>9740678.14</td>\n",
       "    </tr>\n",
       "    <tr>\n",
       "      <th>27</th>\n",
       "      <td>15337509.84</td>\n",
       "      <td>9102720.38</td>\n",
       "      <td>4722954.96</td>\n",
       "      <td>1797166.32</td>\n",
       "      <td>9084263.21</td>\n",
       "    </tr>\n",
       "    <tr>\n",
       "      <th>28</th>\n",
       "      <td>16590771.45</td>\n",
       "      <td>9115367.39</td>\n",
       "      <td>4989606.87</td>\n",
       "      <td>1486950.09</td>\n",
       "      <td>8178518.26</td>\n",
       "    </tr>\n",
       "    <tr>\n",
       "      <th>29</th>\n",
       "      <td>12878904.16</td>\n",
       "      <td>9200265.27</td>\n",
       "      <td>5105167.31</td>\n",
       "      <td>1686097.78</td>\n",
       "      <td>9982149.11</td>\n",
       "    </tr>\n",
       "  </tbody>\n",
       "</table>\n",
       "</div>"
      ],
      "text/plain": [
       "              0           1           2           3            4\n",
       "0    1085076.25   872705.40  1205565.47  1231629.01   1127170.23\n",
       "1    1297526.30   950091.96  1446622.46  1213357.51   1331687.56\n",
       "2    1632908.55  1054345.66  1476040.27  1385761.73   1606548.65\n",
       "3    1582922.20  1104466.40  1358897.01  1206628.90   1454186.94\n",
       "4    1929564.75  1239147.45  1408728.35  1193792.66   1294015.10\n",
       "5    2186958.53  1425427.45  1671144.44  1191811.69   1287773.25\n",
       "6    2550283.91  1483942.11  1299526.84  1377335.94   1409038.38\n",
       "7    2987456.40  1920992.92  1518250.36  1292724.45   1644639.84\n",
       "8    2955870.61  1855884.59  1333944.41  1439093.72   1658345.32\n",
       "9    2885906.20  1628524.64  1418562.34  1623999.62   1610559.00\n",
       "10   3521072.73  2033273.26  1533295.47  1617449.28   1940200.91\n",
       "11   3068130.06  2736639.96  1715771.95  1667059.86   2220623.16\n",
       "12   4437501.10  3130791.31  1488172.27  1628480.74   2635578.58\n",
       "13   5186439.53  3710613.39  1382617.30  1743686.24   2982208.00\n",
       "14   6924127.21  5152574.26  1636845.88  1622359.25   3245258.36\n",
       "15   7516237.00  4878920.08  2034950.57  1845861.46   3615783.67\n",
       "16   9557039.77  5055760.84  1884579.47  2085285.95   4007821.56\n",
       "17  10100967.16  5405653.43  2491656.02  2215103.01   4134298.00\n",
       "18  10388730.79  3727968.75  2457237.53  2264592.61   4978950.89\n",
       "19  12813879.39  4111181.32  2443580.24  2597002.10   5895547.16\n",
       "20  12940712.41  4536322.29  2751480.01  2087324.83   6732954.79\n",
       "21  14540956.19  5034268.64  2835382.92  1936739.15   9478874.98\n",
       "22  10125615.69  5234023.78  3417685.24  1644127.72  10754867.43\n",
       "23  12957768.19  4315199.71  3959133.91  1702084.05  11891729.06\n",
       "24  14499118.43  4789536.09  3582973.67  1609115.06   8773983.07\n",
       "25  13412452.16  6249133.55  3697386.12  1736390.99   8823801.84\n",
       "26  14372620.42  7423308.60  4654500.12  1635818.96   9740678.14\n",
       "27  15337509.84  9102720.38  4722954.96  1797166.32   9084263.21\n",
       "28  16590771.45  9115367.39  4989606.87  1486950.09   8178518.26\n",
       "29  12878904.16  9200265.27  5105167.31  1686097.78   9982149.11"
      ]
     },
     "execution_count": 9,
     "metadata": {},
     "output_type": "execute_result"
    }
   ],
   "source": [
    "# 5. Sample first five streams of annual ending values\n",
    "first_five = list(range(5))\n",
    "simulated[first_five]\n"
   ]
  },
  {
   "cell_type": "code",
   "execution_count": 10,
   "metadata": {
    "collapsed": false,
    "scrolled": true
   },
   "outputs": [
    {
     "data": {
      "text/plain": [
       "[<matplotlib.lines.Line2D at 0x2714a1a85f8>,\n",
       " <matplotlib.lines.Line2D at 0x2714a1a87b8>,\n",
       " <matplotlib.lines.Line2D at 0x2714a1a8978>,\n",
       " <matplotlib.lines.Line2D at 0x2714a1a8b70>,\n",
       " <matplotlib.lines.Line2D at 0x2714a1a8d68>]"
      ]
     },
     "execution_count": 10,
     "metadata": {},
     "output_type": "execute_result"
    },
    {
     "data": {
      "image/png": "[encoded data removed]",
      "text/plain": [
       "<matplotlib.figure.Figure at 0x27147cb2ba8>"
      ]
     },
     "metadata": {},
     "output_type": "display_data"
    }
   ],
   "source": [
    "# 6. Plot first five simulated portfolios\n",
    "plots.plot(simulated[first_five])\n"
   ]
  },
  {
   "cell_type": "code",
   "execution_count": 11,
   "metadata": {
    "collapsed": false
   },
   "outputs": [
    {
     "name": "stdout",
     "output_type": "stream",
     "text": [
      "Count: 5000\n",
      "Mean:  8860658.162950004\n",
      "SD:  7114524.5421162145\n",
      "Max:  121307424.52\n",
      "Min:  696536.78\n"
     ]
    }
   ],
   "source": [
    "# 7. Generate summary statistics with numpy functions\n",
    "\n",
    "print(\"Count:\", len(simulated.loc[29]))\n",
    "print(\"Mean: \", (np.mean(simulated.loc[29])))\n",
    "print(\"SD: \",(np.std(simulated.loc[29])))\n",
    "print(\"Max: \",(np.max(simulated.loc[29])))\n",
    "print(\"Min: \", (np.min(simulated.loc[29])))\n",
    "\n"
   ]
  },
  {
   "cell_type": "code",
   "execution_count": 12,
   "metadata": {
    "collapsed": false
   },
   "outputs": [
    {
     "data": {
      "text/plain": [
       "count    5.000000e+03\n",
       "mean     8.860658e+06\n",
       "std      7.115236e+06\n",
       "min      6.965368e+05\n",
       "25%      4.333845e+06\n",
       "50%      6.949714e+06\n",
       "75%      1.108616e+07\n",
       "max      1.213074e+08\n",
       "Name: 29, dtype: float64"
      ]
     },
     "execution_count": 12,
     "metadata": {},
     "output_type": "execute_result"
    }
   ],
   "source": [
    "# 8. Generating more comprehensive summary statistics with pandas describe function\n",
    "ending_values = simulated.loc[29]\n",
    "ending_values.describe()\n"
   ]
  },
  {
   "cell_type": "code",
   "execution_count": 13,
   "metadata": {
    "collapsed": false
   },
   "outputs": [
    {
     "data": {
      "text/plain": [
       "(array([ 154.,  491.,  593.,  601.,  565.,  477.,  402.,  301.,  249.,\n",
       "         219.,  158.,  124.,  118.,   78.,   85.,   60.,   58.,   37.,\n",
       "          33.,   34.,   16.,   18.,   13.,   24.,   18.,    6.,   13.,\n",
       "           9.,    7.,    4.,    3.,    2.,    3.,    2.,    1.,    2.,\n",
       "           4.,    2.,    1.,    0.,    0.,    2.,    1.,    0.,    1.,\n",
       "           1.,    2.,    1.,    0.,    0.,    0.,    0.,    2.,    1.,\n",
       "           0.,    1.,    0.,    0.,    1.,    0.,    0.,    0.,    0.,\n",
       "           0.,    0.,    0.,    0.,    1.,    0.,    0.,    0.,    0.,\n",
       "           0.,    0.,    0.,    0.,    0.,    0.,    0.,    0.,    0.,\n",
       "           0.,    0.,    0.,    0.,    0.,    0.,    0.,    0.,    0.,\n",
       "           0.,    0.,    0.,    0.,    0.,    0.,    0.,    0.,    0.,    1.]),\n",
       " array([  6.96536780e+05,   1.90264566e+06,   3.10875453e+06,\n",
       "          4.31486341e+06,   5.52097229e+06,   6.72708117e+06,\n",
       "          7.93319004e+06,   9.13929892e+06,   1.03454078e+07,\n",
       "          1.15515167e+07,   1.27576256e+07,   1.39637344e+07,\n",
       "          1.51698433e+07,   1.63759522e+07,   1.75820611e+07,\n",
       "          1.87881699e+07,   1.99942788e+07,   2.12003877e+07,\n",
       "          2.24064966e+07,   2.36126055e+07,   2.48187143e+07,\n",
       "          2.60248232e+07,   2.72309321e+07,   2.84370410e+07,\n",
       "          2.96431498e+07,   3.08492587e+07,   3.20553676e+07,\n",
       "          3.32614765e+07,   3.44675853e+07,   3.56736942e+07,\n",
       "          3.68798031e+07,   3.80859120e+07,   3.92920209e+07,\n",
       "          4.04981297e+07,   4.17042386e+07,   4.29103475e+07,\n",
       "          4.41164564e+07,   4.53225652e+07,   4.65286741e+07,\n",
       "          4.77347830e+07,   4.89408919e+07,   5.01470008e+07,\n",
       "          5.13531096e+07,   5.25592185e+07,   5.37653274e+07,\n",
       "          5.49714363e+07,   5.61775451e+07,   5.73836540e+07,\n",
       "          5.85897629e+07,   5.97958718e+07,   6.10019806e+07,\n",
       "          6.22080895e+07,   6.34141984e+07,   6.46203073e+07,\n",
       "          6.58264162e+07,   6.70325250e+07,   6.82386339e+07,\n",
       "          6.94447428e+07,   7.06508517e+07,   7.18569605e+07,\n",
       "          7.30630694e+07,   7.42691783e+07,   7.54752872e+07,\n",
       "          7.66813961e+07,   7.78875049e+07,   7.90936138e+07,\n",
       "          8.02997227e+07,   8.15058316e+07,   8.27119404e+07,\n",
       "          8.39180493e+07,   8.51241582e+07,   8.63302671e+07,\n",
       "          8.75363760e+07,   8.87424848e+07,   8.99485937e+07,\n",
       "          9.11547026e+07,   9.23608115e+07,   9.35669203e+07,\n",
       "          9.47730292e+07,   9.59791381e+07,   9.71852470e+07,\n",
       "          9.83913558e+07,   9.95974647e+07,   1.00803574e+08,\n",
       "          1.02009682e+08,   1.03215791e+08,   1.04421900e+08,\n",
       "          1.05628009e+08,   1.06834118e+08,   1.08040227e+08,\n",
       "          1.09246336e+08,   1.10452445e+08,   1.11658554e+08,\n",
       "          1.12864662e+08,   1.14070771e+08,   1.15276880e+08,\n",
       "          1.16482989e+08,   1.17689098e+08,   1.18895207e+08,\n",
       "          1.20101316e+08,   1.21307425e+08]),\n",
       " <a list of 100 Patch objects>)"
      ]
     },
     "execution_count": 13,
     "metadata": {},
     "output_type": "execute_result"
    },
    {
     "data": {
      "image/png": "[encoded data removed]",
      "text/plain": [
       "<matplotlib.figure.Figure at 0x27147ce0c18>"
      ]
     },
     "metadata": {},
     "output_type": "display_data"
    }
   ],
   "source": [
    "# 9. Get a visualization of the distribution of ending values\n",
    "\n",
    "plots.hist(ending_values, bins=100)\n"
   ]
  },
  {
   "cell_type": "code",
   "execution_count": 16,
   "metadata": {
    "collapsed": false
   },
   "outputs": [
    {
     "data": {
      "text/plain": [
       "99.68"
      ]
     },
     "execution_count": 16,
     "metadata": {},
     "output_type": "execute_result"
    }
   ],
   "source": [
    "# 11. Calculate probability of seeing an ending value more  than savings\n",
    "\n",
    "len(ending_values[ending_values>savings['p']])*100 / len(ending_values)\n"
   ]
  },
  {
   "cell_type": "code",
   "execution_count": 1,
   "metadata": {
    "collapsed": true
   },
   "outputs": [],
   "source": []
  },
  {
   "cell_type": "code",
   "execution_count": null,
   "metadata": {
    "collapsed": true
   },
   "outputs": [],
   "source": []
  }
 ],
 "metadata": {
  "kernelspec": {
   "display_name": "Python 3",
   "language": "python",
   "name": "python3"
  },
  "language_info": {
   "codemirror_mode": {
    "name": "ipython",
    "version": 3
   },
   "file_extension": ".py",
   "mimetype": "text/x-python",
   "name": "python",
   "nbconvert_exporter": "python",
   "pygments_lexer": "ipython3",
   "version": "3.6.0"
  }
 },
 "nbformat": 4,
 "nbformat_minor": 2
}
