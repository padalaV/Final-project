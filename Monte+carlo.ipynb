{
 "cells": [
  {
   "cell_type": "markdown",
   "metadata": {},
   "source": [
    "## Calculating the return on investment in S&P 500 stocks.\n",
    "Hypothesis: The returns on investment taking into account, the uncertainity in market returns will be higher than the traditional calculation of returns\n",
    "\n",
    "Completed:\n",
    "Initial program draft .\n",
    "Pending: \n",
    "Doc tests, doc strings and writing classes where appropriate"
   ]
  },
  {
   "cell_type": "code",
   "execution_count": 90,
   "metadata": {
    "collapsed": false
   },
   "outputs": [],
   "source": [
    "# 1.Import needed libraries, set plots to display in notebook\n",
    "\n",
    "import numpy as np\n",
    "from pandas import Series, DataFrame\n",
    "%matplotlib inline\n",
    "import matplotlib.pyplot as plots\n"
   ]
  },
  {
   "cell_type": "code",
   "execution_count": 91,
   "metadata": {
    "collapsed": false
   },
   "outputs": [],
   "source": [
    "# 2. Regular savings calculator approach for 30 year period.\n",
    "# The average  expected return for the stock is  14.4% \n"
   ]
  },
  {
   "cell_type": "code",
   "execution_count": 92,
   "metadata": {
    "collapsed": false
   },
   "outputs": [
    {
     "name": "stdout",
     "output_type": "stream",
     "text": [
      "20700.0\n",
      "32149.0\n",
      "44399.43\n",
      "57507.390100000004\n",
      "71532.907407\n",
      "86540.21092549001\n",
      "102598.02569027431\n",
      "119779.88748859352\n",
      "138164.47961279508\n",
      "157835.99318569075\n",
      "178884.51270868912\n",
      "201406.42859829735\n",
      "225504.87860017817\n",
      "251290.22010219065\n",
      "278880.535509344\n",
      "308402.1729949981\n",
      "339990.325104648\n",
      "373789.6478619734\n",
      "409954.9232123115\n",
      "448651.76783717336\n",
      "490057.39158577553\n",
      "534361.4089967798\n",
      "581766.7076265544\n",
      "632490.3771604133\n",
      "686764.7035616423\n",
      "744838.2328109574\n",
      "806976.9091077244\n",
      "873465.2927452652\n",
      "944607.8632374338\n",
      "1020730.4136640542\n"
     ]
    }
   ],
   "source": [
    "p = 10000\n",
    "time_period = 30\n",
    "i =.07\n",
    "annual_add = 10000\n",
    "\n",
    "for year in range(time_period):\n",
    "    ending = p * (1+i) + annual_add\n",
    "    print((ending))\n",
    "    p = ending"
   ]
  },
  {
   "cell_type": "code",
   "execution_count": 93,
   "metadata": {
    "collapsed": true
   },
   "outputs": [],
   "source": [
    "#Average volatility is 0.7"
   ]
  },
  {
   "cell_type": "code",
   "execution_count": 94,
   "metadata": {
    "collapsed": false
   },
   "outputs": [
    {
     "name": "stdout",
     "output_type": "stream",
     "text": [
      "\tReturn     \t\tEnding Value\n",
      "\t-0.1187               \t18813.091349329512\n",
      "\t0.0519               \t29788.987773890727\n",
      "\t0.106               \t42946.2816412484\n",
      "\t0.1785               \t60612.599979097504\n",
      "\t-0.3031               \t52239.74059784444\n",
      "\t0.1194               \t68478.53815994189\n",
      "\t0.0093               \t79117.65473488021\n",
      "\t0.0465               \t92795.1082951842\n",
      "\t0.313               \t131836.3771065693\n",
      "\t-0.0231               \t138787.8465406991\n",
      "\t0.1382               \t167966.66533495375\n",
      "\t0.2059               \t212553.24160819247\n",
      "\t0.0494               \t233048.1612999627\n",
      "\t0.1838               \t285887.38045131654\n",
      "\t0.3601               \t398838.798998978\n",
      "\t0.166               \t475050.42099738395\n",
      "\t0.0288               \t498715.1687824891\n",
      "\t0.155               \t586006.8026739625\n",
      "\t0.0099               \t601807.4687458008\n",
      "\t0.0451               \t638968.6454889119\n",
      "\t-0.0366               \t625571.1266039987\n",
      "\t0.0547               \t669819.3212845222\n",
      "\t0.1077               \t751936.2123212317\n",
      "\t-0.1259               \t667290.2686221917\n",
      "\t-0.0926               \t615487.4544433112\n",
      "\t0.0912               \t681635.4727820635\n",
      "\t0.1536               \t796366.9525869836\n",
      "\t0.2809               \t1030063.6101666847\n",
      "\t0.0094               \t1049740.730492243\n",
      "\t0.2045               \t1274451.2433076024\n"
     ]
    }
   ],
   "source": [
    "p = 10000\n",
    "expected_return = .07\n",
    "volatility = .14\n",
    "time_period = 30\n",
    "annual_add = 10000\n",
    "\n",
    "print(\"\\tReturn\", \"\\t\\tEnding Value\".rjust(18))\n",
    "for year in range(time_period):\n",
    "    market_return = np.random.normal(expected_return, volatility)\n",
    "    fv = p * (1 + market_return) + annual_add\n",
    "    print(\"\\t{}\".ljust(10).format(round(market_return,4)), \"\\t{}\".rjust(10).format(fv))\n",
    "    p = fv\n",
    "\n",
    "\n",
    "\n"
   ]
  },
  {
   "cell_type": "code",
   "execution_count": 95,
   "metadata": {
    "collapsed": true
   },
   "outputs": [],
   "source": [
    "# 4. Simulate portfolio ending market values \n",
    "\n",
    "sim = DataFrame()\n",
    "iterations = 5000\n",
    "\n",
    "\n",
    "for x in range(iterations):\n",
    "    expected_return = .07\n",
    "    volatility = .14\n",
    "    time_period = 30\n",
    "    p = 10000\n",
    "    annual_add = 10000\n",
    "    stream = []\n",
    "    for i in range(time_period):\n",
    "        end = round(p * (1 + np.random.normal(expected_return,volatility)) + annual_add,2)\n",
    "        \n",
    "        stream.append(end)\n",
    "\n",
    "        p= end\n",
    "\n",
    "    \n",
    "    sim[x] = stream"
   ]
  },
  {
   "cell_type": "code",
   "execution_count": 96,
   "metadata": {
    "collapsed": false
   },
   "outputs": [
    {
     "data": {
      "text/html": [
       "<div>\n",
       "<table border=\"1\" class=\"dataframe\">\n",
       "  <thead>\n",
       "    <tr style=\"text-align: right;\">\n",
       "      <th></th>\n",
       "      <th>0</th>\n",
       "      <th>1</th>\n",
       "      <th>2</th>\n",
       "      <th>3</th>\n",
       "      <th>4</th>\n",
       "    </tr>\n",
       "  </thead>\n",
       "  <tbody>\n",
       "    <tr>\n",
       "      <th>0</th>\n",
       "      <td>20050.55</td>\n",
       "      <td>23113.62</td>\n",
       "      <td>21720.06</td>\n",
       "      <td>19873.98</td>\n",
       "      <td>21496.91</td>\n",
       "    </tr>\n",
       "    <tr>\n",
       "      <th>1</th>\n",
       "      <td>31560.43</td>\n",
       "      <td>33180.96</td>\n",
       "      <td>29717.34</td>\n",
       "      <td>25624.14</td>\n",
       "      <td>30514.17</td>\n",
       "    </tr>\n",
       "    <tr>\n",
       "      <th>2</th>\n",
       "      <td>39478.35</td>\n",
       "      <td>53901.23</td>\n",
       "      <td>37409.43</td>\n",
       "      <td>39444.53</td>\n",
       "      <td>51364.05</td>\n",
       "    </tr>\n",
       "    <tr>\n",
       "      <th>3</th>\n",
       "      <td>54809.93</td>\n",
       "      <td>59549.14</td>\n",
       "      <td>52168.86</td>\n",
       "      <td>58050.45</td>\n",
       "      <td>66649.53</td>\n",
       "    </tr>\n",
       "    <tr>\n",
       "      <th>4</th>\n",
       "      <td>76569.33</td>\n",
       "      <td>65443.32</td>\n",
       "      <td>59125.19</td>\n",
       "      <td>78671.85</td>\n",
       "      <td>79639.82</td>\n",
       "    </tr>\n",
       "    <tr>\n",
       "      <th>5</th>\n",
       "      <td>76086.22</td>\n",
       "      <td>70216.60</td>\n",
       "      <td>75186.67</td>\n",
       "      <td>94122.77</td>\n",
       "      <td>84040.57</td>\n",
       "    </tr>\n",
       "    <tr>\n",
       "      <th>6</th>\n",
       "      <td>88958.20</td>\n",
       "      <td>79647.91</td>\n",
       "      <td>91584.95</td>\n",
       "      <td>93330.45</td>\n",
       "      <td>91354.80</td>\n",
       "    </tr>\n",
       "    <tr>\n",
       "      <th>7</th>\n",
       "      <td>112833.32</td>\n",
       "      <td>96995.88</td>\n",
       "      <td>103266.28</td>\n",
       "      <td>125889.63</td>\n",
       "      <td>95259.05</td>\n",
       "    </tr>\n",
       "    <tr>\n",
       "      <th>8</th>\n",
       "      <td>150100.99</td>\n",
       "      <td>129381.96</td>\n",
       "      <td>96661.20</td>\n",
       "      <td>120297.64</td>\n",
       "      <td>91479.81</td>\n",
       "    </tr>\n",
       "    <tr>\n",
       "      <th>9</th>\n",
       "      <td>181923.63</td>\n",
       "      <td>114094.70</td>\n",
       "      <td>84837.60</td>\n",
       "      <td>121614.07</td>\n",
       "      <td>119478.45</td>\n",
       "    </tr>\n",
       "    <tr>\n",
       "      <th>10</th>\n",
       "      <td>217202.18</td>\n",
       "      <td>168452.49</td>\n",
       "      <td>90105.75</td>\n",
       "      <td>140372.61</td>\n",
       "      <td>166459.97</td>\n",
       "    </tr>\n",
       "    <tr>\n",
       "      <th>11</th>\n",
       "      <td>261087.60</td>\n",
       "      <td>208474.85</td>\n",
       "      <td>102653.08</td>\n",
       "      <td>156467.52</td>\n",
       "      <td>212240.04</td>\n",
       "    </tr>\n",
       "    <tr>\n",
       "      <th>12</th>\n",
       "      <td>311614.21</td>\n",
       "      <td>170761.67</td>\n",
       "      <td>128174.61</td>\n",
       "      <td>138512.77</td>\n",
       "      <td>203279.40</td>\n",
       "    </tr>\n",
       "    <tr>\n",
       "      <th>13</th>\n",
       "      <td>366031.49</td>\n",
       "      <td>226014.16</td>\n",
       "      <td>122599.36</td>\n",
       "      <td>162396.98</td>\n",
       "      <td>231946.64</td>\n",
       "    </tr>\n",
       "    <tr>\n",
       "      <th>14</th>\n",
       "      <td>413350.01</td>\n",
       "      <td>221503.98</td>\n",
       "      <td>140687.88</td>\n",
       "      <td>218782.08</td>\n",
       "      <td>297556.93</td>\n",
       "    </tr>\n",
       "    <tr>\n",
       "      <th>15</th>\n",
       "      <td>397824.90</td>\n",
       "      <td>224659.07</td>\n",
       "      <td>139499.52</td>\n",
       "      <td>249624.53</td>\n",
       "      <td>261114.85</td>\n",
       "    </tr>\n",
       "    <tr>\n",
       "      <th>16</th>\n",
       "      <td>425056.99</td>\n",
       "      <td>147264.33</td>\n",
       "      <td>173250.01</td>\n",
       "      <td>306468.24</td>\n",
       "      <td>305167.55</td>\n",
       "    </tr>\n",
       "    <tr>\n",
       "      <th>17</th>\n",
       "      <td>452866.68</td>\n",
       "      <td>165065.57</td>\n",
       "      <td>193688.93</td>\n",
       "      <td>354876.84</td>\n",
       "      <td>313404.02</td>\n",
       "    </tr>\n",
       "    <tr>\n",
       "      <th>18</th>\n",
       "      <td>443539.58</td>\n",
       "      <td>164614.48</td>\n",
       "      <td>177816.67</td>\n",
       "      <td>394696.43</td>\n",
       "      <td>363706.35</td>\n",
       "    </tr>\n",
       "    <tr>\n",
       "      <th>19</th>\n",
       "      <td>488062.48</td>\n",
       "      <td>170160.56</td>\n",
       "      <td>168090.41</td>\n",
       "      <td>400067.67</td>\n",
       "      <td>402819.87</td>\n",
       "    </tr>\n",
       "    <tr>\n",
       "      <th>20</th>\n",
       "      <td>605958.38</td>\n",
       "      <td>182424.35</td>\n",
       "      <td>184337.08</td>\n",
       "      <td>410548.40</td>\n",
       "      <td>434367.53</td>\n",
       "    </tr>\n",
       "    <tr>\n",
       "      <th>21</th>\n",
       "      <td>718162.94</td>\n",
       "      <td>180901.38</td>\n",
       "      <td>197014.14</td>\n",
       "      <td>405127.52</td>\n",
       "      <td>586015.49</td>\n",
       "    </tr>\n",
       "    <tr>\n",
       "      <th>22</th>\n",
       "      <td>697432.15</td>\n",
       "      <td>200065.75</td>\n",
       "      <td>281669.65</td>\n",
       "      <td>340888.33</td>\n",
       "      <td>705051.39</td>\n",
       "    </tr>\n",
       "    <tr>\n",
       "      <th>23</th>\n",
       "      <td>701195.94</td>\n",
       "      <td>258506.95</td>\n",
       "      <td>244616.04</td>\n",
       "      <td>395537.06</td>\n",
       "      <td>799558.36</td>\n",
       "    </tr>\n",
       "    <tr>\n",
       "      <th>24</th>\n",
       "      <td>655219.76</td>\n",
       "      <td>321211.08</td>\n",
       "      <td>272606.13</td>\n",
       "      <td>511049.79</td>\n",
       "      <td>800597.95</td>\n",
       "    </tr>\n",
       "    <tr>\n",
       "      <th>25</th>\n",
       "      <td>916007.92</td>\n",
       "      <td>395013.51</td>\n",
       "      <td>296471.65</td>\n",
       "      <td>561383.85</td>\n",
       "      <td>888860.46</td>\n",
       "    </tr>\n",
       "    <tr>\n",
       "      <th>26</th>\n",
       "      <td>978490.28</td>\n",
       "      <td>397858.78</td>\n",
       "      <td>375019.34</td>\n",
       "      <td>620072.35</td>\n",
       "      <td>743548.97</td>\n",
       "    </tr>\n",
       "    <tr>\n",
       "      <th>27</th>\n",
       "      <td>1016153.35</td>\n",
       "      <td>395979.76</td>\n",
       "      <td>360975.43</td>\n",
       "      <td>662911.38</td>\n",
       "      <td>827015.00</td>\n",
       "    </tr>\n",
       "    <tr>\n",
       "      <th>28</th>\n",
       "      <td>1221179.82</td>\n",
       "      <td>378163.02</td>\n",
       "      <td>237068.22</td>\n",
       "      <td>826277.67</td>\n",
       "      <td>932241.24</td>\n",
       "    </tr>\n",
       "    <tr>\n",
       "      <th>29</th>\n",
       "      <td>1340386.18</td>\n",
       "      <td>378493.04</td>\n",
       "      <td>286890.90</td>\n",
       "      <td>805850.02</td>\n",
       "      <td>932544.85</td>\n",
       "    </tr>\n",
       "  </tbody>\n",
       "</table>\n",
       "</div>"
      ],
      "text/plain": [
       "             0          1          2          3          4\n",
       "0     20050.55   23113.62   21720.06   19873.98   21496.91\n",
       "1     31560.43   33180.96   29717.34   25624.14   30514.17\n",
       "2     39478.35   53901.23   37409.43   39444.53   51364.05\n",
       "3     54809.93   59549.14   52168.86   58050.45   66649.53\n",
       "4     76569.33   65443.32   59125.19   78671.85   79639.82\n",
       "5     76086.22   70216.60   75186.67   94122.77   84040.57\n",
       "6     88958.20   79647.91   91584.95   93330.45   91354.80\n",
       "7    112833.32   96995.88  103266.28  125889.63   95259.05\n",
       "8    150100.99  129381.96   96661.20  120297.64   91479.81\n",
       "9    181923.63  114094.70   84837.60  121614.07  119478.45\n",
       "10   217202.18  168452.49   90105.75  140372.61  166459.97\n",
       "11   261087.60  208474.85  102653.08  156467.52  212240.04\n",
       "12   311614.21  170761.67  128174.61  138512.77  203279.40\n",
       "13   366031.49  226014.16  122599.36  162396.98  231946.64\n",
       "14   413350.01  221503.98  140687.88  218782.08  297556.93\n",
       "15   397824.90  224659.07  139499.52  249624.53  261114.85\n",
       "16   425056.99  147264.33  173250.01  306468.24  305167.55\n",
       "17   452866.68  165065.57  193688.93  354876.84  313404.02\n",
       "18   443539.58  164614.48  177816.67  394696.43  363706.35\n",
       "19   488062.48  170160.56  168090.41  400067.67  402819.87\n",
       "20   605958.38  182424.35  184337.08  410548.40  434367.53\n",
       "21   718162.94  180901.38  197014.14  405127.52  586015.49\n",
       "22   697432.15  200065.75  281669.65  340888.33  705051.39\n",
       "23   701195.94  258506.95  244616.04  395537.06  799558.36\n",
       "24   655219.76  321211.08  272606.13  511049.79  800597.95\n",
       "25   916007.92  395013.51  296471.65  561383.85  888860.46\n",
       "26   978490.28  397858.78  375019.34  620072.35  743548.97\n",
       "27  1016153.35  395979.76  360975.43  662911.38  827015.00\n",
       "28  1221179.82  378163.02  237068.22  826277.67  932241.24\n",
       "29  1340386.18  378493.04  286890.90  805850.02  932544.85"
      ]
     },
     "execution_count": 96,
     "metadata": {},
     "output_type": "execute_result"
    }
   ],
   "source": [
    "# 5. Sample first five streams of annual ending values\n",
    "first_five = list(range(5))\n",
    "sim[first_five]"
   ]
  },
  {
   "cell_type": "code",
   "execution_count": 97,
   "metadata": {
    "collapsed": false
   },
   "outputs": [
    {
     "data": {
      "text/plain": [
       "[<matplotlib.lines.Line2D at 0x27c1b994e48>,\n",
       " <matplotlib.lines.Line2D at 0x27c1b994fd0>,\n",
       " <matplotlib.lines.Line2D at 0x27c1b99c208>,\n",
       " <matplotlib.lines.Line2D at 0x27c1b99c400>,\n",
       " <matplotlib.lines.Line2D at 0x27c1b99c5f8>]"
      ]
     },
     "execution_count": 97,
     "metadata": {},
     "output_type": "execute_result"
    },
    {
     "data": {
      "image/png": "[encoded data removed]",
      "text/plain": [
       "<matplotlib.figure.Figure at 0x27c1b78dc18>"
      ]
     },
     "metadata": {},
     "output_type": "display_data"
    }
   ],
   "source": [
    "# 6. Plot first five simulated portfolios\n",
    "plots.plot(sim[first_five])"
   ]
  },
  {
   "cell_type": "code",
   "execution_count": 98,
   "metadata": {
    "collapsed": false
   },
   "outputs": [
    {
     "name": "stdout",
     "output_type": "stream",
     "text": [
      "Count: 5000\n",
      "Mean:  1036842.3403819982\n",
      "SD:  584227.4243318771\n",
      "Max:  5684057.98\n",
      "Min:  137283.98\n"
     ]
    }
   ],
   "source": [
    "# 7. Generate summary statistics with numpy functions\n",
    "\n",
    "print(\"Count:\", len(sim.loc[29]))\n",
    "print(\"Mean: \", (np.mean(sim.loc[29])))\n",
    "print(\"SD: \",(np.std(sim.loc[29])))\n",
    "print(\"Max: \",(np.max(sim.loc[29])))\n",
    "print(\"Min: \", (np.min(sim.loc[29])))"
   ]
  },
  {
   "cell_type": "code",
   "execution_count": 99,
   "metadata": {
    "collapsed": false
   },
   "outputs": [
    {
     "data": {
      "text/plain": [
       "count    5.000000e+03\n",
       "mean     1.036842e+06\n",
       "std      5.842859e+05\n",
       "min      1.372840e+05\n",
       "25%      6.317694e+05\n",
       "50%      8.931183e+05\n",
       "75%      1.284012e+06\n",
       "max      5.684058e+06\n",
       "Name: 29, dtype: float64"
      ]
     },
     "execution_count": 99,
     "metadata": {},
     "output_type": "execute_result"
    }
   ],
   "source": [
    "# 8. Generating more comprehensive summary statistics with pandas describe function\n",
    "ending_values = sim.loc[29]\n",
    "ending_values.describe()"
   ]
  },
  {
   "cell_type": "code",
   "execution_count": 100,
   "metadata": {
    "collapsed": false
   },
   "outputs": [
    {
     "data": {
      "text/plain": [
       "(array([   2.,   15.,   59.,   96.,  150.,  194.,  249.,  235.,  273.,\n",
       "         268.,  282.,  265.,  254.,  232.,  239.,  188.,  162.,  194.,\n",
       "         152.,  144.,  133.,  103.,  114.,   99.,  101.,   77.,   73.,\n",
       "          51.,   59.,   56.,   40.,   41.,   43.,   33.,   35.,   33.,\n",
       "          26.,   13.,   27.,   13.,   20.,   13.,   16.,   19.,   12.,\n",
       "           7.,    9.,    5.,    5.,   10.,    1.,    3.,    5.,    6.,\n",
       "           2.,    3.,    5.,    4.,    1.,    2.,    3.,    1.,    4.,\n",
       "           3.,    3.,    0.,    1.,    2.,    0.,    1.,    1.,    1.,\n",
       "           0.,    1.,    0.,    0.,    0.,    1.,    2.,    0.,    1.,\n",
       "           0.,    0.,    0.,    1.,    0.,    0.,    0.,    0.,    0.,\n",
       "           1.,    0.,    1.,    0.,    0.,    0.,    0.,    0.,    0.,    1.]),\n",
       " array([  137283.98,   192751.72,   248219.46,   303687.2 ,   359154.94,\n",
       "          414622.68,   470090.42,   525558.16,   581025.9 ,   636493.64,\n",
       "          691961.38,   747429.12,   802896.86,   858364.6 ,   913832.34,\n",
       "          969300.08,  1024767.82,  1080235.56,  1135703.3 ,  1191171.04,\n",
       "         1246638.78,  1302106.52,  1357574.26,  1413042.  ,  1468509.74,\n",
       "         1523977.48,  1579445.22,  1634912.96,  1690380.7 ,  1745848.44,\n",
       "         1801316.18,  1856783.92,  1912251.66,  1967719.4 ,  2023187.14,\n",
       "         2078654.88,  2134122.62,  2189590.36,  2245058.1 ,  2300525.84,\n",
       "         2355993.58,  2411461.32,  2466929.06,  2522396.8 ,  2577864.54,\n",
       "         2633332.28,  2688800.02,  2744267.76,  2799735.5 ,  2855203.24,\n",
       "         2910670.98,  2966138.72,  3021606.46,  3077074.2 ,  3132541.94,\n",
       "         3188009.68,  3243477.42,  3298945.16,  3354412.9 ,  3409880.64,\n",
       "         3465348.38,  3520816.12,  3576283.86,  3631751.6 ,  3687219.34,\n",
       "         3742687.08,  3798154.82,  3853622.56,  3909090.3 ,  3964558.04,\n",
       "         4020025.78,  4075493.52,  4130961.26,  4186429.  ,  4241896.74,\n",
       "         4297364.48,  4352832.22,  4408299.96,  4463767.7 ,  4519235.44,\n",
       "         4574703.18,  4630170.92,  4685638.66,  4741106.4 ,  4796574.14,\n",
       "         4852041.88,  4907509.62,  4962977.36,  5018445.1 ,  5073912.84,\n",
       "         5129380.58,  5184848.32,  5240316.06,  5295783.8 ,  5351251.54,\n",
       "         5406719.28,  5462187.02,  5517654.76,  5573122.5 ,  5628590.24,\n",
       "         5684057.98]),\n",
       " <a list of 100 Patch objects>)"
      ]
     },
     "execution_count": 100,
     "metadata": {},
     "output_type": "execute_result"
    },
    {
     "data": {
      "image/png": "[encoded data removed]",
      "text/plain": [
       "<matplotlib.figure.Figure at 0x27c1b81d240>"
      ]
     },
     "metadata": {},
     "output_type": "display_data"
    }
   ],
   "source": [
    "# 9. Get a visualization of the distribution of ending values\n",
    "\n",
    "plots.hist(ending_values, bins=100)"
   ]
  },
  {
   "cell_type": "code",
   "execution_count": 101,
   "metadata": {
    "collapsed": false
   },
   "outputs": [
    {
     "data": {
      "text/plain": [
       "0.5822"
      ]
     },
     "execution_count": 101,
     "metadata": {},
     "output_type": "execute_result"
    }
   ],
   "source": [
    "# 10. Calculate probability of seeing an ending value less than 1000000.\n",
    "\n",
    "len(ending_values[ending_values<1000000]) / len(ending_values)\n"
   ]
  }
 ],
 "metadata": {
  "kernelspec": {
   "display_name": "Python 3",
   "language": "python",
   "name": "python3"
  },
  "language_info": {
   "codemirror_mode": {
    "name": "ipython",
    "version": 3
   },
   "file_extension": ".py",
   "mimetype": "text/x-python",
   "name": "python",
   "nbconvert_exporter": "python",
   "pygments_lexer": "ipython3",
   "version": "3.6.0"
  }
 },
 "nbformat": 4,
 "nbformat_minor": 2
}
