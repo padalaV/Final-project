# 1.Import needed libraries, set plots to display in notebook

import numpy as np
from pandas import Series, DataFrame
%matplotlib inline
import matplotlib.pyplot as plots
# 2. Regular bank savings  approach for 30 year period.
# The average expected return for the stock is  0.7 which is taken as the interest rate. 
def calculate_savings ( ):
    """
    This function calculates the returns at the end of a given time period in the traditional savings bank approach.
    
    User Inputs:
    principal: The initial amount a user wants to invest at the beginning-->integer
    time Period: The time for which the user wants to know the returns with interest-->integer
    annual_add: The amount added to savings each year--> integer
    interest: Rate of interest for savings bank. --> float.
    Note: If you would like to compare returns from bank and a particular stock ,
    please use the stock's average expected returns as the rate of interest for bank.
    
    
    Returned values: A dictionary with keys p,t, aa for principal. time period and annual additions--> Dictionary
    
    """        
    
    principal = int(input ("Please enter the initial amount you want to invest:  "))
     time_period = int(input ("Please enter the time period you want to calculate returns for:  "))
     annual_add = int(input ("Please enter the amount to be added every year, if none, enter 0:  "))  
     interest = float(input ("Please enter the interest rate in percentage. Note : If you would like to compare with S&P stock returns, The average s&p returns rate is 7%:  "))
     for year in range(time_period):
            ending = (principal) * (1+interest/100) + annual_add
            print((ending))
            principal = ending
     
     return({'p':principal,'t':time_period, 'aa':annual_add})
    
# Calling function and saving it's result in a variable
savings=calculate_savings()
print( savings)


def stock_returns(expected_return,volatality,initial):
    """
    Calculates returns from a particular stock based on the time period,  annual additions and  principal amount specified
    for savings approach.
    
    Argument list:
    expected_return: Average expected return for the stock
    volatality: Average volatality of the stock, i.e variance of the expected returns 
    initial: Initial amount being invested.
    
    """
    print("\tReturn", "\t\tEnding Value".rjust(18))
    for year in range(savings['t']):
            market_return = np.random.normal(expected_return, volatality)
            fv = initial * (1 + market_return) + savings['aa']
            print("\t{}".ljust(10).format(round(market_return,4)), "\t{}".rjust(10).format(fv))
            initial = fv


stock_returns(0.07,.14,10000)
# 4. Simulate portfolio ending market values 

"""
Uses Monte Carlo simulation to simulate the stock returns over the given time period

Argument list:
expected_ return: Average expected return for the stock
volatality: Average volatality of the stock, i.e variance of the expected returns 
iterations: Number of independent trials to be conducted for calculating expected returns
add: Annual additions to each years starting maount.    
    
"""
def simulations(iterations, expected_return, volatility, add):
 sim = DataFrame()
 
 for x in range(iterations):
        stream = []
        initial= savings['p']
        for i in range(savings['t']):
          end = round(initial * (1 + np.random.normal(expected_return,volatility)) + add,2)
          stream.append(end)
          initial= end
        sim[x] = stream
 return(sim)
    simulated=simulations(5000, 0.07, .14, 10000)
# 5. Sample first five streams of annual ending values
first_five = list(range(5))
simulated[first_five]
# 6. Plot first five simulated portfolios
plots.plot(simulated[first_five])
# 7. Generate summary statistics with numpy functions

print("Count:", len(simulated.loc[29]))
print("Mean: ", (np.mean(simulated.loc[29])))
print("SD: ",(np.std(simulated.loc[29])))
print("Max: ",(np.max(simulated.loc[29])))
print("Min: ", (np.min(simulated.loc[29])))

# 8. Generating more comprehensive summary statistics with pandas describe function
ending_values = simulated.loc[29]
ending_values.describe()
# 9. Get a visualization of the distribution of ending values

plots.hist(ending_values, bins=100)
# 11. Calculate probability of seeing an ending value more  than savings

len(ending_values[ending_values>savings['p']])*100 / len(ending_values)

     

     
    

