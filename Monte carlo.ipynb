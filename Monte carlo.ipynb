{
 "cells": [
  {
   "cell_type": "markdown",
   "metadata": {},
   "source": [
    "## Calculating the return on investment in S&P 500 stocks.\n",
    "Hypothesis: The returns on investment in S & P 500 stocks taking into account, the uncertainity in market returns will be higher than the traditional calculation of returns for comparable rate of return/interest per year for a given time period.\n"
   ]
  },
  {
   "cell_type": "code",
   "execution_count": 20,
   "metadata": {
    "collapsed": false
   },
   "outputs": [],
   "source": [
    "# 1.Import needed libraries, set plots to display in notebook\n",
    "\n",
    "import numpy as np\n",
    "from pandas import Series, DataFrame\n",
    "%matplotlib inline\n",
    "import matplotlib.pyplot as plots\n"
   ]
  },
  {
   "cell_type": "code",
   "execution_count": 21,
   "metadata": {
    "collapsed": false
   },
   "outputs": [],
   "source": [
    "# 2. Regular bank savings  approach for 30 year period.\n",
    "# The average expected return for the stock is  0.7 which is taken as the interest rate. \n"
   ]
  },
  {
   "cell_type": "code",
   "execution_count": 22,
   "metadata": {
    "collapsed": false
   },
   "outputs": [],
   "source": [
    "def calculate_savings ( ):\n",
    "    \"\"\"\n",
    "    This function calculates the returns at the end of a given time period in the traditional savings bank approach.\n",
    "    \n",
    "    User Inputs:\n",
    "    principal: The initial amount a user wants to invest at the beginning-->integer\n",
    "    time Period: The time for which the user wants to know the returns with interest-->integer\n",
    "    annual_add: The amount added to savings each year--> integer\n",
    "    interest: Rate of interest for savings bank. --> float.\n",
    "    Note: If you would like to compare returns from bank and a particular stock ,\n",
    "    please use the stock's average expected returns as the rate of interest for bank.\n",
    "    \n",
    "    \n",
    "    Returned values: A dictionary with keys p,t, aa for principal. time period and annual additions--> Dictionary\n",
    "    \n",
    "    \"\"\"        \n",
    "    \n",
    "    principal = int(input (\"Please enter the initial amount you want to invest:  \"))\n",
    "    time_period = int(input (\"Please enter the time period you want to calculate returns for:  \"))\n",
    "    annual_add = int(input (\"Please enter the amount to be added every year, if none, enter 0:  \"))  \n",
    "    interest = float(input (\"Please enter the interest rate in percentage. Note : If you would like to compare with S&P stock returns, The average s&p returns rate is 7%:  \"))\n",
    "    for year in range(time_period):\n",
    "            ending = (principal) * (1+interest/100) + annual_add\n",
    "            print((ending))\n",
    "            principal = ending\n",
    "     \n",
    "    return({'p':principal,'t':time_period, 'aa':annual_add})\n",
    "    \n",
    "\n",
    "     \n",
    "\n",
    "     \n",
    "    \n",
    "\n"
   ]
  },
  {
   "cell_type": "code",
   "execution_count": 23,
   "metadata": {
    "collapsed": false
   },
   "outputs": [
    {
     "name": "stdout",
     "output_type": "stream",
     "text": [
      "Please enter the initial amount you want to invest:  10000\n",
      "Please enter the time period you want to calculate returns for:  30\n",
      "Please enter the amount to be added every year, if none, enter 0:  10000\n",
      "Please enter the interest rate in percentage. Note : If you would like to compare with S&P stock returns, The average s&p returns rate is 7%:  7\n",
      "20700.0\n",
      "32149.0\n",
      "44399.43\n",
      "57507.390100000004\n",
      "71532.907407\n",
      "86540.21092549001\n",
      "102598.02569027431\n",
      "119779.88748859352\n",
      "138164.47961279508\n",
      "157835.99318569075\n",
      "178884.51270868912\n",
      "201406.42859829735\n",
      "225504.87860017817\n",
      "251290.22010219065\n",
      "278880.535509344\n",
      "308402.1729949981\n",
      "339990.325104648\n",
      "373789.6478619734\n",
      "409954.9232123115\n",
      "448651.76783717336\n",
      "490057.39158577553\n",
      "534361.4089967798\n",
      "581766.7076265544\n",
      "632490.3771604133\n",
      "686764.7035616423\n",
      "744838.2328109574\n",
      "806976.9091077244\n",
      "873465.2927452652\n",
      "944607.8632374338\n",
      "1020730.4136640542\n",
      "{'p': 1020730.4136640542, 't': 30, 'aa': 10000}\n"
     ]
    }
   ],
   "source": [
    "# Calling function and saving it's result in a variable\n",
    "savings=calculate_savings()\n",
    "print( savings)\n",
    "\n",
    "\n"
   ]
  },
  {
   "cell_type": "code",
   "execution_count": 24,
   "metadata": {
    "collapsed": true
   },
   "outputs": [],
   "source": [
    "def stock_returns(expected_return,volatality,initial):\n",
    "    \"\"\"\n",
    "    Calculates returns from a particular stock based on the time period,  annual additions and  principal amount specified\n",
    "    for savings approach.\n",
    "    \n",
    "    Argument list:\n",
    "    expected_return: Average expected return for the stock\n",
    "    volatality: Average volatality of the stock, i.e variance of the expected returns \n",
    "    initial: Initial amount being invested.\n",
    "    \n",
    "    \"\"\"\n",
    "    print(\"\\tReturn\", \"\\t\\tEnding Value\".rjust(18))\n",
    "    for year in range(savings['t']):\n",
    "            market_return = np.random.normal(expected_return, volatality)\n",
    "            fv = initial * (1 + market_return) + savings['aa']\n",
    "            print(\"\\t{}\".ljust(10).format(round(market_return,4)), \"\\t{}\".rjust(10).format(fv))\n",
    "            initial = fv\n",
    "\n",
    "\n"
   ]
  },
  {
   "cell_type": "code",
   "execution_count": 25,
   "metadata": {
    "collapsed": false
   },
   "outputs": [
    {
     "name": "stdout",
     "output_type": "stream",
     "text": [
      "\tReturn     \t\tEnding Value\n",
      "\t-0.067               \t19329.501453235884\n",
      "\t0.2027               \t33247.25042870128\n",
      "\t-0.0561               \t41382.68143443017\n",
      "\t0.0412               \t53085.662269483815\n",
      "\t0.0504               \t65763.04253578704\n",
      "\t-0.0569               \t72019.96961000378\n",
      "\t-0.0227               \t80384.9963265294\n",
      "\t0.026               \t92473.38070212617\n",
      "\t0.0046               \t102899.2750791019\n",
      "\t0.0742               \t120533.79966259973\n",
      "\t0.1813               \t152391.38475078924\n",
      "\t0.1152               \t179939.67906262746\n",
      "\t0.1247               \t212384.81859879548\n",
      "\t0.0287               \t228484.59096248398\n",
      "\t0.0387               \t247332.26114863565\n",
      "\t0.3515               \t344273.2150213012\n",
      "\t0.0215               \t361690.8160159367\n",
      "\t0.1523               \t426792.66581591615\n",
      "\t0.2122               \t527343.2709903056\n",
      "\t-0.2449               \t408217.6925059954\n",
      "\t0.0899               \t454934.05740021495\n",
      "\t0.1664               \t540644.3125148179\n",
      "\t0.0767               \t592119.5340153452\n",
      "\t0.2156               \t729756.6207769151\n",
      "\t0.1174               \t825463.7302032858\n",
      "\t0.2638               \t1053232.9603181914\n",
      "\t-0.0591               \t1001019.0027161791\n",
      "\t-0.04               \t971010.6636968671\n",
      "\t-0.107               \t877103.9515939989\n",
      "\t0.167               \t1033604.0816373146\n"
     ]
    }
   ],
   "source": [
    "stock_returns(0.07,.14,10000)\n"
   ]
  },
  {
   "cell_type": "markdown",
   "metadata": {
    "collapsed": true
   },
   "source": [
    "## Average volatility is 14.4%\n"
   ]
  },
  {
   "cell_type": "code",
   "execution_count": 26,
   "metadata": {
    "collapsed": false
   },
   "outputs": [],
   "source": [
    "# 4. Simulate portfolio ending market values \n",
    "\n",
    "\"\"\"\n",
    "Uses Monte Carlo simulation to simulate the stock returns over the given time period\n",
    "\n",
    "Argument list:\n",
    "expected_ return: Average expected return for the stock\n",
    "volatality: Average volatality of the stock, i.e variance of the expected returns \n",
    "iterations: Number of independent trials to be conducted for calculating expected returns\n",
    "add: Annual additions to each years starting maount.    \n",
    "    \n",
    "\"\"\"\n",
    "def simulations(iterations, expected_return, volatility, add):\n",
    " sim = DataFrame()\n",
    " \n",
    " for x in range(iterations):\n",
    "        stream = []\n",
    "        initial= savings['p']\n",
    "        for i in range(savings['t']):\n",
    "          end = round(initial * (1 + np.random.normal(expected_return,volatility)) + add,2)\n",
    "          stream.append(end)\n",
    "          initial= end\n",
    "        sim[x] = stream\n",
    " return(sim)\n",
    "    "
   ]
  },
  {
   "cell_type": "code",
   "execution_count": 27,
   "metadata": {
    "collapsed": false
   },
   "outputs": [],
   "source": [
    "simulated=simulations(5000, 0.07, .14, 10000)\n"
   ]
  },
  {
   "cell_type": "code",
   "execution_count": 28,
   "metadata": {
    "collapsed": false
   },
   "outputs": [
    {
     "data": {
      "text/html": [
       "<div>\n",
       "<table border=\"1\" class=\"dataframe\">\n",
       "  <thead>\n",
       "    <tr style=\"text-align: right;\">\n",
       "      <th></th>\n",
       "      <th>0</th>\n",
       "      <th>1</th>\n",
       "      <th>2</th>\n",
       "      <th>3</th>\n",
       "      <th>4</th>\n",
       "    </tr>\n",
       "  </thead>\n",
       "  <tbody>\n",
       "    <tr>\n",
       "      <th>0</th>\n",
       "      <td>1157985.42</td>\n",
       "      <td>957348.56</td>\n",
       "      <td>1075003.12</td>\n",
       "      <td>1304632.28</td>\n",
       "      <td>1188104.61</td>\n",
       "    </tr>\n",
       "    <tr>\n",
       "      <th>1</th>\n",
       "      <td>1321662.91</td>\n",
       "      <td>1022799.67</td>\n",
       "      <td>1207875.94</td>\n",
       "      <td>1225036.45</td>\n",
       "      <td>974435.50</td>\n",
       "    </tr>\n",
       "    <tr>\n",
       "      <th>2</th>\n",
       "      <td>1326770.79</td>\n",
       "      <td>858088.17</td>\n",
       "      <td>1320245.63</td>\n",
       "      <td>1122967.37</td>\n",
       "      <td>1057996.18</td>\n",
       "    </tr>\n",
       "    <tr>\n",
       "      <th>3</th>\n",
       "      <td>1364472.92</td>\n",
       "      <td>766274.60</td>\n",
       "      <td>1415193.81</td>\n",
       "      <td>1185337.37</td>\n",
       "      <td>995990.30</td>\n",
       "    </tr>\n",
       "    <tr>\n",
       "      <th>4</th>\n",
       "      <td>1377108.27</td>\n",
       "      <td>957918.24</td>\n",
       "      <td>1213649.46</td>\n",
       "      <td>1391798.88</td>\n",
       "      <td>977759.56</td>\n",
       "    </tr>\n",
       "    <tr>\n",
       "      <th>5</th>\n",
       "      <td>1605313.38</td>\n",
       "      <td>681134.34</td>\n",
       "      <td>1573893.15</td>\n",
       "      <td>1549593.70</td>\n",
       "      <td>988455.16</td>\n",
       "    </tr>\n",
       "    <tr>\n",
       "      <th>6</th>\n",
       "      <td>1755473.10</td>\n",
       "      <td>774115.23</td>\n",
       "      <td>1746036.38</td>\n",
       "      <td>1926646.19</td>\n",
       "      <td>1236110.21</td>\n",
       "    </tr>\n",
       "    <tr>\n",
       "      <th>7</th>\n",
       "      <td>1698181.21</td>\n",
       "      <td>946982.66</td>\n",
       "      <td>2356013.50</td>\n",
       "      <td>2092968.98</td>\n",
       "      <td>1505406.95</td>\n",
       "    </tr>\n",
       "    <tr>\n",
       "      <th>8</th>\n",
       "      <td>1811658.47</td>\n",
       "      <td>996516.62</td>\n",
       "      <td>2497347.91</td>\n",
       "      <td>2215695.95</td>\n",
       "      <td>1647460.32</td>\n",
       "    </tr>\n",
       "    <tr>\n",
       "      <th>9</th>\n",
       "      <td>1614865.85</td>\n",
       "      <td>1152534.67</td>\n",
       "      <td>2767383.73</td>\n",
       "      <td>2750544.19</td>\n",
       "      <td>1648883.61</td>\n",
       "    </tr>\n",
       "    <tr>\n",
       "      <th>10</th>\n",
       "      <td>1932933.34</td>\n",
       "      <td>1450257.89</td>\n",
       "      <td>2625402.13</td>\n",
       "      <td>3023474.95</td>\n",
       "      <td>1386698.18</td>\n",
       "    </tr>\n",
       "    <tr>\n",
       "      <th>11</th>\n",
       "      <td>1842162.02</td>\n",
       "      <td>1668021.61</td>\n",
       "      <td>2793386.93</td>\n",
       "      <td>3418029.96</td>\n",
       "      <td>1710131.82</td>\n",
       "    </tr>\n",
       "    <tr>\n",
       "      <th>12</th>\n",
       "      <td>1905984.61</td>\n",
       "      <td>1890526.28</td>\n",
       "      <td>2998951.78</td>\n",
       "      <td>3143020.26</td>\n",
       "      <td>2353206.27</td>\n",
       "    </tr>\n",
       "    <tr>\n",
       "      <th>13</th>\n",
       "      <td>2222589.23</td>\n",
       "      <td>2023824.50</td>\n",
       "      <td>3006448.46</td>\n",
       "      <td>4200549.83</td>\n",
       "      <td>2706616.43</td>\n",
       "    </tr>\n",
       "    <tr>\n",
       "      <th>14</th>\n",
       "      <td>2196725.08</td>\n",
       "      <td>2135299.45</td>\n",
       "      <td>3270762.89</td>\n",
       "      <td>4172089.26</td>\n",
       "      <td>2846229.41</td>\n",
       "    </tr>\n",
       "    <tr>\n",
       "      <th>15</th>\n",
       "      <td>2643750.70</td>\n",
       "      <td>1892813.64</td>\n",
       "      <td>2166416.57</td>\n",
       "      <td>4735064.08</td>\n",
       "      <td>3249621.19</td>\n",
       "    </tr>\n",
       "    <tr>\n",
       "      <th>16</th>\n",
       "      <td>3424220.02</td>\n",
       "      <td>1593610.77</td>\n",
       "      <td>1780745.57</td>\n",
       "      <td>5374045.72</td>\n",
       "      <td>2811498.97</td>\n",
       "    </tr>\n",
       "    <tr>\n",
       "      <th>17</th>\n",
       "      <td>3885152.04</td>\n",
       "      <td>2097348.31</td>\n",
       "      <td>2488539.74</td>\n",
       "      <td>5424323.89</td>\n",
       "      <td>3232112.63</td>\n",
       "    </tr>\n",
       "    <tr>\n",
       "      <th>18</th>\n",
       "      <td>4275514.06</td>\n",
       "      <td>2059803.61</td>\n",
       "      <td>2501761.52</td>\n",
       "      <td>6133503.61</td>\n",
       "      <td>3306413.28</td>\n",
       "    </tr>\n",
       "    <tr>\n",
       "      <th>19</th>\n",
       "      <td>4334222.66</td>\n",
       "      <td>2040390.37</td>\n",
       "      <td>3041924.60</td>\n",
       "      <td>5933317.59</td>\n",
       "      <td>3760022.92</td>\n",
       "    </tr>\n",
       "    <tr>\n",
       "      <th>20</th>\n",
       "      <td>4918089.13</td>\n",
       "      <td>2279794.32</td>\n",
       "      <td>3427239.28</td>\n",
       "      <td>5923963.77</td>\n",
       "      <td>5873035.36</td>\n",
       "    </tr>\n",
       "    <tr>\n",
       "      <th>21</th>\n",
       "      <td>5271568.17</td>\n",
       "      <td>2363780.10</td>\n",
       "      <td>3065785.42</td>\n",
       "      <td>5599062.98</td>\n",
       "      <td>6178046.23</td>\n",
       "    </tr>\n",
       "    <tr>\n",
       "      <th>22</th>\n",
       "      <td>6196758.91</td>\n",
       "      <td>2479889.20</td>\n",
       "      <td>3733344.92</td>\n",
       "      <td>5097156.25</td>\n",
       "      <td>6576774.26</td>\n",
       "    </tr>\n",
       "    <tr>\n",
       "      <th>23</th>\n",
       "      <td>7126480.19</td>\n",
       "      <td>2255007.15</td>\n",
       "      <td>4360684.23</td>\n",
       "      <td>4930455.84</td>\n",
       "      <td>6072140.23</td>\n",
       "    </tr>\n",
       "    <tr>\n",
       "      <th>24</th>\n",
       "      <td>8537875.55</td>\n",
       "      <td>2035202.33</td>\n",
       "      <td>4055379.41</td>\n",
       "      <td>6675088.72</td>\n",
       "      <td>7029150.34</td>\n",
       "    </tr>\n",
       "    <tr>\n",
       "      <th>25</th>\n",
       "      <td>7853590.40</td>\n",
       "      <td>1944748.40</td>\n",
       "      <td>5125523.62</td>\n",
       "      <td>7633725.74</td>\n",
       "      <td>6526676.10</td>\n",
       "    </tr>\n",
       "    <tr>\n",
       "      <th>26</th>\n",
       "      <td>8379147.60</td>\n",
       "      <td>1502760.14</td>\n",
       "      <td>6622977.69</td>\n",
       "      <td>7306411.11</td>\n",
       "      <td>7186803.44</td>\n",
       "    </tr>\n",
       "    <tr>\n",
       "      <th>27</th>\n",
       "      <td>9243007.34</td>\n",
       "      <td>1499695.17</td>\n",
       "      <td>7607550.25</td>\n",
       "      <td>8365105.26</td>\n",
       "      <td>9267388.88</td>\n",
       "    </tr>\n",
       "    <tr>\n",
       "      <th>28</th>\n",
       "      <td>9718690.17</td>\n",
       "      <td>1314037.51</td>\n",
       "      <td>8157472.43</td>\n",
       "      <td>9104248.42</td>\n",
       "      <td>7844656.65</td>\n",
       "    </tr>\n",
       "    <tr>\n",
       "      <th>29</th>\n",
       "      <td>9828145.04</td>\n",
       "      <td>1397753.09</td>\n",
       "      <td>7278158.76</td>\n",
       "      <td>8667971.21</td>\n",
       "      <td>8415476.84</td>\n",
       "    </tr>\n",
       "  </tbody>\n",
       "</table>\n",
       "</div>"
      ],
      "text/plain": [
       "             0           1           2           3           4\n",
       "0   1157985.42   957348.56  1075003.12  1304632.28  1188104.61\n",
       "1   1321662.91  1022799.67  1207875.94  1225036.45   974435.50\n",
       "2   1326770.79   858088.17  1320245.63  1122967.37  1057996.18\n",
       "3   1364472.92   766274.60  1415193.81  1185337.37   995990.30\n",
       "4   1377108.27   957918.24  1213649.46  1391798.88   977759.56\n",
       "5   1605313.38   681134.34  1573893.15  1549593.70   988455.16\n",
       "6   1755473.10   774115.23  1746036.38  1926646.19  1236110.21\n",
       "7   1698181.21   946982.66  2356013.50  2092968.98  1505406.95\n",
       "8   1811658.47   996516.62  2497347.91  2215695.95  1647460.32\n",
       "9   1614865.85  1152534.67  2767383.73  2750544.19  1648883.61\n",
       "10  1932933.34  1450257.89  2625402.13  3023474.95  1386698.18\n",
       "11  1842162.02  1668021.61  2793386.93  3418029.96  1710131.82\n",
       "12  1905984.61  1890526.28  2998951.78  3143020.26  2353206.27\n",
       "13  2222589.23  2023824.50  3006448.46  4200549.83  2706616.43\n",
       "14  2196725.08  2135299.45  3270762.89  4172089.26  2846229.41\n",
       "15  2643750.70  1892813.64  2166416.57  4735064.08  3249621.19\n",
       "16  3424220.02  1593610.77  1780745.57  5374045.72  2811498.97\n",
       "17  3885152.04  2097348.31  2488539.74  5424323.89  3232112.63\n",
       "18  4275514.06  2059803.61  2501761.52  6133503.61  3306413.28\n",
       "19  4334222.66  2040390.37  3041924.60  5933317.59  3760022.92\n",
       "20  4918089.13  2279794.32  3427239.28  5923963.77  5873035.36\n",
       "21  5271568.17  2363780.10  3065785.42  5599062.98  6178046.23\n",
       "22  6196758.91  2479889.20  3733344.92  5097156.25  6576774.26\n",
       "23  7126480.19  2255007.15  4360684.23  4930455.84  6072140.23\n",
       "24  8537875.55  2035202.33  4055379.41  6675088.72  7029150.34\n",
       "25  7853590.40  1944748.40  5125523.62  7633725.74  6526676.10\n",
       "26  8379147.60  1502760.14  6622977.69  7306411.11  7186803.44\n",
       "27  9243007.34  1499695.17  7607550.25  8365105.26  9267388.88\n",
       "28  9718690.17  1314037.51  8157472.43  9104248.42  7844656.65\n",
       "29  9828145.04  1397753.09  7278158.76  8667971.21  8415476.84"
      ]
     },
     "execution_count": 28,
     "metadata": {},
     "output_type": "execute_result"
    }
   ],
   "source": [
    "# 5. Sample first five streams of annual ending values\n",
    "first_five = list(range(5))\n",
    "simulated[first_five]\n"
   ]
  },
  {
   "cell_type": "code",
   "execution_count": 29,
   "metadata": {
    "collapsed": false,
    "scrolled": true
   },
   "outputs": [
    {
     "data": {
      "text/plain": [
       "[<matplotlib.lines.Line2D at 0x1ee0d43a048>,\n",
       " <matplotlib.lines.Line2D at 0x1ee0d43a208>,\n",
       " <matplotlib.lines.Line2D at 0x1ee0d43a3c8>,\n",
       " <matplotlib.lines.Line2D at 0x1ee0d43a5c0>,\n",
       " <matplotlib.lines.Line2D at 0x1ee0d43a7b8>]"
      ]
     },
     "execution_count": 29,
     "metadata": {},
     "output_type": "execute_result"
    },
    {
     "data": {
      "image/png": "[encoded data removed]",
      "text/plain": [
       "<matplotlib.figure.Figure at 0x1ee0d24ad68>"
      ]
     },
     "metadata": {},
     "output_type": "display_data"
    }
   ],
   "source": [
    "# 6. Plot first five simulated portfolios\n",
    "plots.plot(simulated[first_five])\n"
   ]
  },
  {
   "cell_type": "code",
   "execution_count": 30,
   "metadata": {
    "collapsed": true
   },
   "outputs": [],
   "source": [
    "# The graphs show that most of the ending values are less than that of the savings ending value at 1020730.41\n"
   ]
  },
  {
   "cell_type": "code",
   "execution_count": 31,
   "metadata": {
    "collapsed": false
   },
   "outputs": [
    {
     "name": "stdout",
     "output_type": "stream",
     "text": [
      "Count: 5000\n",
      "Mean:  8647845.226905983\n",
      "SD:  6597210.006461971\n",
      "Max:  87891734.01\n",
      "Min:  711543.41\n"
     ]
    }
   ],
   "source": [
    "# 7. Generate summary statistics with numpy functions\n",
    "\n",
    "print(\"Count:\", len(simulated.loc[29]))\n",
    "print(\"Mean: \", (np.mean(simulated.loc[29])))\n",
    "print(\"SD: \",(np.std(simulated.loc[29])))\n",
    "print(\"Max: \",(np.max(simulated.loc[29])))\n",
    "print(\"Min: \", (np.min(simulated.loc[29])))\n",
    "\n"
   ]
  },
  {
   "cell_type": "code",
   "execution_count": 32,
   "metadata": {
    "collapsed": false
   },
   "outputs": [
    {
     "data": {
      "text/plain": [
       "count    5.000000e+03\n",
       "mean     8.647845e+06\n",
       "std      6.597870e+06\n",
       "min      7.115434e+05\n",
       "25%      4.288403e+06\n",
       "50%      6.790935e+06\n",
       "75%      1.104012e+07\n",
       "max      8.789173e+07\n",
       "Name: 29, dtype: float64"
      ]
     },
     "execution_count": 32,
     "metadata": {},
     "output_type": "execute_result"
    }
   ],
   "source": [
    "# 8. Generating more comprehensive summary statistics with pandas describe function\n",
    "ending_values = simulated.loc[29]\n",
    "ending_values.describe()\n"
   ]
  },
  {
   "cell_type": "code",
   "execution_count": 33,
   "metadata": {
    "collapsed": false
   },
   "outputs": [
    {
     "data": {
      "text/plain": [
       "(array([  93.,  276.,  379.,  451.,  486.,  432.,  392.,  283.,  304.,\n",
       "         256.,  234.,  186.,  182.,  147.,  118.,  112.,   91.,   67.,\n",
       "          81.,   57.,   43.,   44.,   43.,   21.,   20.,   18.,   16.,\n",
       "          23.,   18.,   11.,   12.,    4.,    9.,   14.,    8.,    8.,\n",
       "          10.,    6.,    8.,    3.,    4.,    8.,    1.,    3.,    2.,\n",
       "           3.,    0.,    0.,    1.,    0.,    1.,    2.,    0.,    0.,\n",
       "           0.,    0.,    0.,    1.,    1.,    0.,    0.,    1.,    2.,\n",
       "           0.,    0.,    1.,    0.,    0.,    0.,    0.,    0.,    0.,\n",
       "           0.,    1.,    0.,    0.,    0.,    0.,    0.,    0.,    0.,\n",
       "           0.,    0.,    0.,    1.,    0.,    0.,    0.,    0.,    0.,\n",
       "           0.,    0.,    0.,    0.,    0.,    0.,    0.,    0.,    0.,    1.]),\n",
       " array([   711543.41      ,   1583345.316     ,   2455147.222     ,\n",
       "          3326949.128     ,   4198751.034     ,   5070552.94      ,\n",
       "          5942354.846     ,   6814156.752     ,   7685958.658     ,\n",
       "          8557760.564     ,   9429562.47      ,  10301364.376     ,\n",
       "         11173166.282     ,  12044968.188     ,  12916770.094     ,\n",
       "         13788572.        ,  14660373.906     ,  15532175.812     ,\n",
       "         16403977.718     ,  17275779.624     ,  18147581.53      ,\n",
       "         19019383.436     ,  19891185.342     ,  20762987.248     ,\n",
       "         21634789.154     ,  22506591.06      ,  23378392.966     ,\n",
       "         24250194.872     ,  25121996.778     ,  25993798.684     ,\n",
       "         26865600.59      ,  27737402.496     ,  28609204.402     ,\n",
       "         29481006.308     ,  30352808.214     ,  31224610.12      ,\n",
       "         32096412.026     ,  32968213.932     ,  33840015.838     ,\n",
       "         34711817.744     ,  35583619.65      ,  36455421.556     ,\n",
       "         37327223.462     ,  38199025.368     ,  39070827.274     ,\n",
       "         39942629.18      ,  40814431.086     ,  41686232.992     ,\n",
       "         42558034.898     ,  43429836.804     ,  44301638.71      ,\n",
       "         45173440.616     ,  46045242.522     ,  46917044.428     ,\n",
       "         47788846.334     ,  48660648.24      ,  49532450.146     ,\n",
       "         50404252.052     ,  51276053.958     ,  52147855.864     ,\n",
       "         53019657.77      ,  53891459.676     ,  54763261.582     ,\n",
       "         55635063.488     ,  56506865.394     ,  57378667.3       ,\n",
       "         58250469.206     ,  59122271.112     ,  59994073.018     ,\n",
       "         60865874.924     ,  61737676.83      ,  62609478.736     ,\n",
       "         63481280.642     ,  64353082.548     ,  65224884.454     ,\n",
       "         66096686.36      ,  66968488.266     ,  67840290.17200001,\n",
       "         68712092.07800001,  69583893.984     ,  70455695.89      ,\n",
       "         71327497.796     ,  72199299.70200001,  73071101.608     ,\n",
       "         73942903.514     ,  74814705.42      ,  75686507.32600001,\n",
       "         76558309.23200001,  77430111.138     ,  78301913.044     ,\n",
       "         79173714.95      ,  80045516.85600001,  80917318.76200001,\n",
       "         81789120.668     ,  82660922.574     ,  83532724.48      ,\n",
       "         84404526.38600001,  85276328.29200001,  86148130.198     ,\n",
       "         87019932.104     ,  87891734.01000001]),\n",
       " <a list of 100 Patch objects>)"
      ]
     },
     "execution_count": 33,
     "metadata": {},
     "output_type": "execute_result"
    },
    {
     "data": {
      "image/png": "[encoded data removed]",
      "text/plain": [
       "<matplotlib.figure.Figure at 0x1ee0ac66208>"
      ]
     },
     "metadata": {},
     "output_type": "display_data"
    }
   ],
   "source": [
    "# 9. Get a visualization of the distribution of ending values\n",
    "\n",
    "plots.hist(ending_values, bins=100)\n"
   ]
  },
  {
   "cell_type": "code",
   "execution_count": 36,
   "metadata": {
    "collapsed": false
   },
   "outputs": [
    {
     "data": {
      "text/plain": [
       "99.7"
      ]
     },
     "execution_count": 36,
     "metadata": {},
     "output_type": "execute_result"
    }
   ],
   "source": [
    "# 11. The probability of seeing an ending value more  than savings.\n",
    "\n",
    "len(ending_values[ending_values>savings['p']])*100 / len(ending_values)\n"
   ]
  },
  {
   "cell_type": "code",
   "execution_count": 1,
   "metadata": {
    "collapsed": true
   },
   "outputs": [],
   "source": []
  },
  {
   "cell_type": "code",
   "execution_count": null,
   "metadata": {
    "collapsed": true
   },
   "outputs": [],
   "source": []
  }
 ],
 "metadata": {
  "kernelspec": {
   "display_name": "Python 3",
   "language": "python",
   "name": "python3"
  },
  "language_info": {
   "codemirror_mode": {
    "name": "ipython",
    "version": 3
   },
   "file_extension": ".py",
   "mimetype": "text/x-python",
   "name": "python",
   "nbconvert_exporter": "python",
   "pygments_lexer": "ipython3",
   "version": "3.6.0"
  }
 },
 "nbformat": 4,
 "nbformat_minor": 2
}
