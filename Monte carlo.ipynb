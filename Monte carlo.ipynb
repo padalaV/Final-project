{
 "cells": [
  {
   "cell_type": "markdown",
   "metadata": {},
   "source": [
    "## Calculating the return on investment in S&P 500 stocks.\n",
    "Hypothesis: The returns on investment taking into account, the uncertainity in market returns will be higher than the traditional calculation of returns\n",
    "\n",
    "Completed:\n",
    "Initial program draft .\n",
    "Pending: \n",
    "Doc tests, doc strings and writing classes where appropriate"
   ]
  },
  {
   "cell_type": "code",
   "execution_count": null,
   "metadata": {
    "collapsed": false
   },
   "outputs": [],
   "source": [
    "# 1.Import needed libraries, set plots to display in notebook\n",
    "\n",
    "import numpy as np\n",
    "from pandas import Series, DataFrame\n",
    "%matplotlib inline\n",
    "import matplotlib.pyplot as plots\n"
   ]
  },
  {
   "cell_type": "code",
   "execution_count": null,
   "metadata": {
    "collapsed": false
   },
   "outputs": [],
   "source": [
    "# 2. Regular bank savings  approach for 30 year period.\n",
    "# The average expected return for the stock is  0.7 which is taken as the interest rate. \n"
   ]
  },
  {
   "cell_type": "code",
   "execution_count": 3,
   "metadata": {
    "collapsed": false
   },
   "outputs": [],
   "source": [
    "def calculate_savings ( ):\n",
    "     principal = int(input (\"Please enter the initial amount you want to invest:  \"))\n",
    "     time_period = int(input (\"Please enter the time period you want to calculate returns for:  \"))\n",
    "     annual_add = int(input (\"Please enter the amount to be added every year, if none, enter 0:  \"))  \n",
    "     interest = float(input (\"Please enter the interest rate:  \"))\n",
    "     for year in range(time_period):\n",
    "            ending = (principal) * (1+interest) + annual_add\n",
    "            print((ending))\n",
    "            principal = ending\n",
    "     \n",
    "     return({'p':principal,'t':time_period, 'aa':annual_add})\n",
    "    \n",
    "\n",
    "     \n",
    "\n",
    "     \n",
    "    \n",
    "\n"
   ]
  },
  {
   "cell_type": "code",
   "execution_count": 4,
   "metadata": {
    "collapsed": false
   },
   "outputs": [
    {
     "name": "stdout",
     "output_type": "stream",
     "text": [
      "Please enter the initial amount you want to invest:  10000\n",
      "Please enter the time period you want to calculate returns for:  30\n",
      "Please enter the amount to be added every year, if none, enter 0:  1000\n",
      "Please enter the interest rate:  .07\n",
      "11700.0\n",
      "13519.0\n",
      "15465.330000000002\n",
      "17547.903100000003\n",
      "19776.256317000003\n",
      "22160.594259190006\n",
      "24711.835857333306\n",
      "27441.66436734664\n",
      "30362.580873060906\n",
      "33487.96153417517\n",
      "36832.11884156743\n",
      "40410.36716047716\n",
      "44239.09286171056\n",
      "48335.8293620303\n",
      "52719.33741737242\n",
      "57409.6910365885\n",
      "62428.369409149695\n",
      "67798.35526779018\n",
      "73544.24013653549\n",
      "79692.33694609298\n",
      "86270.8005323195\n",
      "93309.75656958186\n",
      "100841.4395294526\n",
      "108900.34029651429\n",
      "117523.36411727029\n",
      "126749.99960547921\n",
      "136622.49957786276\n",
      "147186.07454831316\n",
      "158489.0997666951\n",
      "170583.33675036376\n",
      "{'p': 170583.33675036376, 't': 30, 'aa': 1000}\n"
     ]
    }
   ],
   "source": [
    "savings=calculate_savings()\n",
    "print( savings)\n",
    "\n",
    "\n"
   ]
  },
  {
   "cell_type": "code",
   "execution_count": 5,
   "metadata": {
    "collapsed": true
   },
   "outputs": [],
   "source": [
    "def stock_returns(expected_return,volatality,initial):\n",
    "    print(\"\\tReturn\", \"\\t\\tEnding Value\".rjust(18))\n",
    "    for year in range(savings['t']):\n",
    "            market_return = np.random.normal(expected_return, volatality)\n",
    "            fv = initial * (1 + market_return) + savings['aa']\n",
    "            print(\"\\t{}\".ljust(10).format(round(market_return,4)), \"\\t{}\".rjust(10).format(fv))\n",
    "            initial = fv\n",
    "\n",
    "\n"
   ]
  },
  {
   "cell_type": "code",
   "execution_count": 6,
   "metadata": {
    "collapsed": false
   },
   "outputs": [
    {
     "name": "stdout",
     "output_type": "stream",
     "text": [
      "\tReturn     \t\tEnding Value\n",
      "\t0.2482               \t13482.091401450647\n",
      "\t0.0636               \t15339.827950618597\n",
      "\t0.1631               \t18841.87882802411\n",
      "\t0.1686               \t23017.88067320903\n",
      "\t0.0605               \t25411.512927957396\n",
      "\t-0.1584               \t22385.799717182723\n",
      "\t0.1451               \t26634.22658160732\n",
      "\t0.0997               \t30289.949679592624\n",
      "\t0.2652               \t39322.02789523358\n",
      "\t0.1699               \t47001.247826660125\n",
      "\t0.1544               \t55259.67152781013\n",
      "\t0.1611               \t65162.70052981703\n",
      "\t0.2111               \t79918.1093422014\n",
      "\t0.0029               \t81148.1958563901\n",
      "\t0.2523               \t102622.36997158309\n",
      "\t0.1025               \t114142.14677263521\n",
      "\t0.1021               \t126796.16258105154\n",
      "\t0.4123               \t180077.22853948333\n",
      "\t0.1555               \t209082.39138236328\n",
      "\t0.163               \t244154.87921867697\n",
      "\t0.2542               \t307230.4350876623\n",
      "\t-0.0923               \t279873.6400232935\n",
      "\t0.1848               \t332585.80595210264\n",
      "\t0.1192               \t373216.18130395585\n",
      "\t0.1413               \t426948.6311177384\n",
      "\t0.2492               \t534324.1621010182\n",
      "\t0.011               \t541200.5698164878\n",
      "\t-0.1082               \t483636.5652231087\n",
      "\t-0.0335               \t468453.86127790157\n",
      "\t0.2106               \t568131.2834330456\n"
     ]
    }
   ],
   "source": [
    "stock_returns(0.07,.14,10000)\n"
   ]
  },
  {
   "cell_type": "markdown",
   "metadata": {
    "collapsed": true
   },
   "source": [
    "## Average volatility is 14.4%\n"
   ]
  },
  {
   "cell_type": "code",
   "execution_count": 7,
   "metadata": {
    "collapsed": false
   },
   "outputs": [],
   "source": [
    "# 4. Simulate portfolio ending market values \n",
    "def simulations(iterations, expected_return, volatility, add):\n",
    " sim = DataFrame()\n",
    " \n",
    " for x in range(iterations):\n",
    "        stream = []\n",
    "        initial= savings['p']\n",
    "        for i in range(savings['t']):\n",
    "          end = round(initial * (1 + np.random.normal(expected_return,volatility)) + add,2)\n",
    "          stream.append(end)\n",
    "          initial= end\n",
    "        sim[x] = stream\n",
    " return(sim)\n",
    "    "
   ]
  },
  {
   "cell_type": "code",
   "execution_count": 8,
   "metadata": {
    "collapsed": false
   },
   "outputs": [],
   "source": [
    "simulated=simulations(5000, 0.07, .14, 10000)\n"
   ]
  },
  {
   "cell_type": "code",
   "execution_count": 9,
   "metadata": {
    "collapsed": false
   },
   "outputs": [
    {
     "data": {
      "text/html": [
       "<div>\n",
       "<table border=\"1\" class=\"dataframe\">\n",
       "  <thead>\n",
       "    <tr style=\"text-align: right;\">\n",
       "      <th></th>\n",
       "      <th>0</th>\n",
       "      <th>1</th>\n",
       "      <th>2</th>\n",
       "      <th>3</th>\n",
       "      <th>4</th>\n",
       "    </tr>\n",
       "  </thead>\n",
       "  <tbody>\n",
       "    <tr>\n",
       "      <th>0</th>\n",
       "      <td>202490.80</td>\n",
       "      <td>209625.03</td>\n",
       "      <td>246656.06</td>\n",
       "      <td>260588.46</td>\n",
       "      <td>175884.19</td>\n",
       "    </tr>\n",
       "    <tr>\n",
       "      <th>1</th>\n",
       "      <td>183179.82</td>\n",
       "      <td>231726.20</td>\n",
       "      <td>256031.74</td>\n",
       "      <td>254647.61</td>\n",
       "      <td>209561.68</td>\n",
       "    </tr>\n",
       "    <tr>\n",
       "      <th>2</th>\n",
       "      <td>228029.17</td>\n",
       "      <td>290017.16</td>\n",
       "      <td>336093.78</td>\n",
       "      <td>289747.26</td>\n",
       "      <td>226282.70</td>\n",
       "    </tr>\n",
       "    <tr>\n",
       "      <th>3</th>\n",
       "      <td>289314.81</td>\n",
       "      <td>319450.28</td>\n",
       "      <td>322715.07</td>\n",
       "      <td>364770.22</td>\n",
       "      <td>211697.56</td>\n",
       "    </tr>\n",
       "    <tr>\n",
       "      <th>4</th>\n",
       "      <td>352214.26</td>\n",
       "      <td>438799.17</td>\n",
       "      <td>369028.70</td>\n",
       "      <td>366196.17</td>\n",
       "      <td>227224.61</td>\n",
       "    </tr>\n",
       "    <tr>\n",
       "      <th>5</th>\n",
       "      <td>336047.39</td>\n",
       "      <td>540044.95</td>\n",
       "      <td>442435.12</td>\n",
       "      <td>453227.10</td>\n",
       "      <td>253364.37</td>\n",
       "    </tr>\n",
       "    <tr>\n",
       "      <th>6</th>\n",
       "      <td>434614.11</td>\n",
       "      <td>550264.86</td>\n",
       "      <td>536908.65</td>\n",
       "      <td>604248.99</td>\n",
       "      <td>264885.19</td>\n",
       "    </tr>\n",
       "    <tr>\n",
       "      <th>7</th>\n",
       "      <td>506064.97</td>\n",
       "      <td>612784.61</td>\n",
       "      <td>577634.82</td>\n",
       "      <td>681609.80</td>\n",
       "      <td>286076.06</td>\n",
       "    </tr>\n",
       "    <tr>\n",
       "      <th>8</th>\n",
       "      <td>477636.62</td>\n",
       "      <td>704662.20</td>\n",
       "      <td>637087.30</td>\n",
       "      <td>759430.76</td>\n",
       "      <td>350098.00</td>\n",
       "    </tr>\n",
       "    <tr>\n",
       "      <th>9</th>\n",
       "      <td>456352.93</td>\n",
       "      <td>873244.17</td>\n",
       "      <td>698086.88</td>\n",
       "      <td>818597.15</td>\n",
       "      <td>339470.02</td>\n",
       "    </tr>\n",
       "    <tr>\n",
       "      <th>10</th>\n",
       "      <td>568165.79</td>\n",
       "      <td>744353.54</td>\n",
       "      <td>685501.24</td>\n",
       "      <td>783436.01</td>\n",
       "      <td>326538.06</td>\n",
       "    </tr>\n",
       "    <tr>\n",
       "      <th>11</th>\n",
       "      <td>668671.18</td>\n",
       "      <td>764879.32</td>\n",
       "      <td>753594.48</td>\n",
       "      <td>806863.17</td>\n",
       "      <td>400693.33</td>\n",
       "    </tr>\n",
       "    <tr>\n",
       "      <th>12</th>\n",
       "      <td>659940.02</td>\n",
       "      <td>947630.02</td>\n",
       "      <td>755422.77</td>\n",
       "      <td>912937.57</td>\n",
       "      <td>493788.84</td>\n",
       "    </tr>\n",
       "    <tr>\n",
       "      <th>13</th>\n",
       "      <td>805137.84</td>\n",
       "      <td>1159457.88</td>\n",
       "      <td>686841.91</td>\n",
       "      <td>880417.71</td>\n",
       "      <td>623039.14</td>\n",
       "    </tr>\n",
       "    <tr>\n",
       "      <th>14</th>\n",
       "      <td>788926.59</td>\n",
       "      <td>887552.57</td>\n",
       "      <td>688456.43</td>\n",
       "      <td>1150610.59</td>\n",
       "      <td>654214.97</td>\n",
       "    </tr>\n",
       "    <tr>\n",
       "      <th>15</th>\n",
       "      <td>919594.64</td>\n",
       "      <td>1039162.08</td>\n",
       "      <td>753804.28</td>\n",
       "      <td>1374434.67</td>\n",
       "      <td>551865.98</td>\n",
       "    </tr>\n",
       "    <tr>\n",
       "      <th>16</th>\n",
       "      <td>1145411.98</td>\n",
       "      <td>1111611.87</td>\n",
       "      <td>592638.14</td>\n",
       "      <td>1340287.49</td>\n",
       "      <td>640118.75</td>\n",
       "    </tr>\n",
       "    <tr>\n",
       "      <th>17</th>\n",
       "      <td>1323562.88</td>\n",
       "      <td>1071581.50</td>\n",
       "      <td>719637.55</td>\n",
       "      <td>1507002.76</td>\n",
       "      <td>698463.70</td>\n",
       "    </tr>\n",
       "    <tr>\n",
       "      <th>18</th>\n",
       "      <td>1230826.86</td>\n",
       "      <td>902381.87</td>\n",
       "      <td>701265.19</td>\n",
       "      <td>1469773.41</td>\n",
       "      <td>744869.55</td>\n",
       "    </tr>\n",
       "    <tr>\n",
       "      <th>19</th>\n",
       "      <td>1362329.42</td>\n",
       "      <td>902328.73</td>\n",
       "      <td>670436.01</td>\n",
       "      <td>1556292.91</td>\n",
       "      <td>704136.05</td>\n",
       "    </tr>\n",
       "    <tr>\n",
       "      <th>20</th>\n",
       "      <td>1632935.01</td>\n",
       "      <td>781173.54</td>\n",
       "      <td>790677.87</td>\n",
       "      <td>1338612.68</td>\n",
       "      <td>760924.69</td>\n",
       "    </tr>\n",
       "    <tr>\n",
       "      <th>21</th>\n",
       "      <td>1816316.06</td>\n",
       "      <td>1086843.42</td>\n",
       "      <td>720224.69</td>\n",
       "      <td>1456169.50</td>\n",
       "      <td>535590.71</td>\n",
       "    </tr>\n",
       "    <tr>\n",
       "      <th>22</th>\n",
       "      <td>2058397.10</td>\n",
       "      <td>1153548.71</td>\n",
       "      <td>817138.09</td>\n",
       "      <td>1464930.77</td>\n",
       "      <td>497320.41</td>\n",
       "    </tr>\n",
       "    <tr>\n",
       "      <th>23</th>\n",
       "      <td>2151177.51</td>\n",
       "      <td>1118382.56</td>\n",
       "      <td>960319.61</td>\n",
       "      <td>1476465.52</td>\n",
       "      <td>565240.79</td>\n",
       "    </tr>\n",
       "    <tr>\n",
       "      <th>24</th>\n",
       "      <td>2362046.29</td>\n",
       "      <td>1020362.70</td>\n",
       "      <td>1056912.81</td>\n",
       "      <td>1448317.81</td>\n",
       "      <td>539102.29</td>\n",
       "    </tr>\n",
       "    <tr>\n",
       "      <th>25</th>\n",
       "      <td>2188342.55</td>\n",
       "      <td>1044104.48</td>\n",
       "      <td>1201679.53</td>\n",
       "      <td>1844011.09</td>\n",
       "      <td>476962.21</td>\n",
       "    </tr>\n",
       "    <tr>\n",
       "      <th>26</th>\n",
       "      <td>2182586.73</td>\n",
       "      <td>1249177.85</td>\n",
       "      <td>1134770.88</td>\n",
       "      <td>2093038.69</td>\n",
       "      <td>474191.32</td>\n",
       "    </tr>\n",
       "    <tr>\n",
       "      <th>27</th>\n",
       "      <td>1457251.89</td>\n",
       "      <td>1345954.88</td>\n",
       "      <td>1270640.47</td>\n",
       "      <td>1881203.08</td>\n",
       "      <td>495688.32</td>\n",
       "    </tr>\n",
       "    <tr>\n",
       "      <th>28</th>\n",
       "      <td>1087409.88</td>\n",
       "      <td>1589856.93</td>\n",
       "      <td>1493146.30</td>\n",
       "      <td>2208731.92</td>\n",
       "      <td>571233.93</td>\n",
       "    </tr>\n",
       "    <tr>\n",
       "      <th>29</th>\n",
       "      <td>1233510.23</td>\n",
       "      <td>1712249.93</td>\n",
       "      <td>1581741.59</td>\n",
       "      <td>2492869.73</td>\n",
       "      <td>660639.40</td>\n",
       "    </tr>\n",
       "  </tbody>\n",
       "</table>\n",
       "</div>"
      ],
      "text/plain": [
       "             0           1           2           3          4\n",
       "0    202490.80   209625.03   246656.06   260588.46  175884.19\n",
       "1    183179.82   231726.20   256031.74   254647.61  209561.68\n",
       "2    228029.17   290017.16   336093.78   289747.26  226282.70\n",
       "3    289314.81   319450.28   322715.07   364770.22  211697.56\n",
       "4    352214.26   438799.17   369028.70   366196.17  227224.61\n",
       "5    336047.39   540044.95   442435.12   453227.10  253364.37\n",
       "6    434614.11   550264.86   536908.65   604248.99  264885.19\n",
       "7    506064.97   612784.61   577634.82   681609.80  286076.06\n",
       "8    477636.62   704662.20   637087.30   759430.76  350098.00\n",
       "9    456352.93   873244.17   698086.88   818597.15  339470.02\n",
       "10   568165.79   744353.54   685501.24   783436.01  326538.06\n",
       "11   668671.18   764879.32   753594.48   806863.17  400693.33\n",
       "12   659940.02   947630.02   755422.77   912937.57  493788.84\n",
       "13   805137.84  1159457.88   686841.91   880417.71  623039.14\n",
       "14   788926.59   887552.57   688456.43  1150610.59  654214.97\n",
       "15   919594.64  1039162.08   753804.28  1374434.67  551865.98\n",
       "16  1145411.98  1111611.87   592638.14  1340287.49  640118.75\n",
       "17  1323562.88  1071581.50   719637.55  1507002.76  698463.70\n",
       "18  1230826.86   902381.87   701265.19  1469773.41  744869.55\n",
       "19  1362329.42   902328.73   670436.01  1556292.91  704136.05\n",
       "20  1632935.01   781173.54   790677.87  1338612.68  760924.69\n",
       "21  1816316.06  1086843.42   720224.69  1456169.50  535590.71\n",
       "22  2058397.10  1153548.71   817138.09  1464930.77  497320.41\n",
       "23  2151177.51  1118382.56   960319.61  1476465.52  565240.79\n",
       "24  2362046.29  1020362.70  1056912.81  1448317.81  539102.29\n",
       "25  2188342.55  1044104.48  1201679.53  1844011.09  476962.21\n",
       "26  2182586.73  1249177.85  1134770.88  2093038.69  474191.32\n",
       "27  1457251.89  1345954.88  1270640.47  1881203.08  495688.32\n",
       "28  1087409.88  1589856.93  1493146.30  2208731.92  571233.93\n",
       "29  1233510.23  1712249.93  1581741.59  2492869.73  660639.40"
      ]
     },
     "execution_count": 9,
     "metadata": {},
     "output_type": "execute_result"
    }
   ],
   "source": [
    "# 5. Sample first five streams of annual ending values\n",
    "first_five = list(range(5))\n",
    "simulated[first_five]\n"
   ]
  },
  {
   "cell_type": "code",
   "execution_count": 10,
   "metadata": {
    "collapsed": false,
    "scrolled": true
   },
   "outputs": [
    {
     "data": {
      "text/plain": [
       "[<matplotlib.lines.Line2D at 0x1725b287748>,\n",
       " <matplotlib.lines.Line2D at 0x1725b287908>,\n",
       " <matplotlib.lines.Line2D at 0x1725b287ac8>,\n",
       " <matplotlib.lines.Line2D at 0x1725b287cc0>,\n",
       " <matplotlib.lines.Line2D at 0x1725b287eb8>]"
      ]
     },
     "execution_count": 10,
     "metadata": {},
     "output_type": "execute_result"
    },
    {
     "data": {
      "image/png": "[encoded data removed]",
      "text/plain": [
       "<matplotlib.figure.Figure at 0x172590f3ac8>"
      ]
     },
     "metadata": {},
     "output_type": "display_data"
    }
   ],
   "source": [
    "# 6. Plot first five simulated portfolios\n",
    "plots.plot(simulated[first_five])\n"
   ]
  },
  {
   "cell_type": "code",
   "execution_count": 11,
   "metadata": {
    "collapsed": false
   },
   "outputs": [
    {
     "name": "stdout",
     "output_type": "stream",
     "text": [
      "Count: 5000\n",
      "Mean:  2209937.2399119996\n",
      "SD:  1489866.6613107948\n",
      "Max:  14553937.02\n",
      "Min:  235352.69\n"
     ]
    }
   ],
   "source": [
    "# 7. Generate summary statistics with numpy functions\n",
    "\n",
    "print(\"Count:\", len(simulated.loc[29]))\n",
    "print(\"Mean: \", (np.mean(simulated.loc[29])))\n",
    "print(\"SD: \",(np.std(simulated.loc[29])))\n",
    "print(\"Max: \",(np.max(simulated.loc[29])))\n",
    "print(\"Min: \", (np.min(simulated.loc[29])))\n",
    "\n"
   ]
  },
  {
   "cell_type": "code",
   "execution_count": 12,
   "metadata": {
    "collapsed": false
   },
   "outputs": [
    {
     "data": {
      "text/plain": [
       "count    5.000000e+03\n",
       "mean     2.209937e+06\n",
       "std      1.490016e+06\n",
       "min      2.353527e+05\n",
       "25%      1.211206e+06\n",
       "50%      1.819154e+06\n",
       "75%      2.783028e+06\n",
       "max      1.455394e+07\n",
       "Name: 29, dtype: float64"
      ]
     },
     "execution_count": 12,
     "metadata": {},
     "output_type": "execute_result"
    }
   ],
   "source": [
    "# 8. Generating more comprehensive summary statistics with pandas describe function\n",
    "ending_values = simulated.loc[29]\n",
    "ending_values.describe()\n"
   ]
  },
  {
   "cell_type": "code",
   "execution_count": 13,
   "metadata": {
    "collapsed": false
   },
   "outputs": [
    {
     "data": {
      "text/plain": [
       "(array([  16.,   66.,  160.,  178.,  252.,  320.,  308.,  297.,  318.,\n",
       "         302.,  269.,  264.,  247.,  171.,  183.,  170.,  132.,  127.,\n",
       "         114.,  112.,  113.,   93.,   72.,   72.,   66.,   57.,   54.,\n",
       "          50.,   34.,   45.,   35.,   38.,   16.,   24.,   18.,   12.,\n",
       "          18.,   16.,    7.,   13.,   10.,   13.,   10.,    6.,   11.,\n",
       "           9.,    5.,   10.,    4.,    5.,    3.,    3.,    6.,    4.,\n",
       "           2.,    3.,    2.,    3.,    1.,    2.,    2.,    3.,    0.,\n",
       "           2.,    1.,    2.,    3.,    1.,    2.,    0.,    1.,    1.,\n",
       "           0.,    0.,    0.,    1.,    0.,    0.,    0.,    0.,    1.,\n",
       "           1.,    0.,    1.,    0.,    0.,    2.,    1.,    0.,    1.,\n",
       "           0.,    1.,    0.,    1.,    0.,    0.,    0.,    0.,    0.,    1.]),\n",
       " array([   235352.69  ,    378538.5333,    521724.3766,    664910.2199,\n",
       "           808096.0632,    951281.9065,   1094467.7498,   1237653.5931,\n",
       "          1380839.4364,   1524025.2797,   1667211.123 ,   1810396.9663,\n",
       "          1953582.8096,   2096768.6529,   2239954.4962,   2383140.3395,\n",
       "          2526326.1828,   2669512.0261,   2812697.8694,   2955883.7127,\n",
       "          3099069.556 ,   3242255.3993,   3385441.2426,   3528627.0859,\n",
       "          3671812.9292,   3814998.7725,   3958184.6158,   4101370.4591,\n",
       "          4244556.3024,   4387742.1457,   4530927.989 ,   4674113.8323,\n",
       "          4817299.6756,   4960485.5189,   5103671.3622,   5246857.2055,\n",
       "          5390043.0488,   5533228.8921,   5676414.7354,   5819600.5787,\n",
       "          5962786.422 ,   6105972.2653,   6249158.1086,   6392343.9519,\n",
       "          6535529.7952,   6678715.6385,   6821901.4818,   6965087.3251,\n",
       "          7108273.1684,   7251459.0117,   7394644.855 ,   7537830.6983,\n",
       "          7681016.5416,   7824202.3849,   7967388.2282,   8110574.0715,\n",
       "          8253759.9148,   8396945.7581,   8540131.6014,   8683317.4447,\n",
       "          8826503.288 ,   8969689.1313,   9112874.9746,   9256060.8179,\n",
       "          9399246.6612,   9542432.5045,   9685618.3478,   9828804.1911,\n",
       "          9971990.0344,  10115175.8777,  10258361.721 ,  10401547.5643,\n",
       "         10544733.4076,  10687919.2509,  10831105.0942,  10974290.9375,\n",
       "         11117476.7808,  11260662.6241,  11403848.4674,  11547034.3107,\n",
       "         11690220.154 ,  11833405.9973,  11976591.8406,  12119777.6839,\n",
       "         12262963.5272,  12406149.3705,  12549335.2138,  12692521.0571,\n",
       "         12835706.9004,  12978892.7437,  13122078.587 ,  13265264.4303,\n",
       "         13408450.2736,  13551636.1169,  13694821.9602,  13838007.8035,\n",
       "         13981193.6468,  14124379.4901,  14267565.3334,  14410751.1767,\n",
       "         14553937.02  ]),\n",
       " <a list of 100 Patch objects>)"
      ]
     },
     "execution_count": 13,
     "metadata": {},
     "output_type": "execute_result"
    },
    {
     "data": {
      "image/png": "[encoded data removed]",
      "text/plain": [
       "<matplotlib.figure.Figure at 0x1725b2c8c18>"
      ]
     },
     "metadata": {},
     "output_type": "display_data"
    }
   ],
   "source": [
    "# 9. Get a visualization of the distribution of ending values\n",
    "\n",
    "plots.hist(ending_values, bins=100)\n"
   ]
  },
  {
   "cell_type": "code",
   "execution_count": null,
   "metadata": {
    "collapsed": false
   },
   "outputs": [],
   "source": [
    "# 11. Calculate probability of seeing an ending value more  than savings\n",
    "\n",
    "len(ending_values[ending_values>1020730])*100 / len(ending_values)\n"
   ]
  },
  {
   "cell_type": "code",
   "execution_count": 1,
   "metadata": {
    "collapsed": true
   },
   "outputs": [],
   "source": [
    "import os"
   ]
  },
  {
   "cell_type": "code",
   "execution_count": null,
   "metadata": {
    "collapsed": false
   },
   "outputs": [],
   "source": []
  },
  {
   "cell_type": "code",
   "execution_count": null,
   "metadata": {
    "collapsed": true
   },
   "outputs": [],
   "source": []
  }
 ],
 "metadata": {
  "kernelspec": {
   "display_name": "Python 3",
   "language": "python",
   "name": "python3"
  },
  "language_info": {
   "codemirror_mode": {
    "name": "ipython",
    "version": 3
   },
   "file_extension": ".py",
   "mimetype": "text/x-python",
   "name": "python",
   "nbconvert_exporter": "python",
   "pygments_lexer": "ipython3",
   "version": "3.6.0"
  }
 },
 "nbformat": 4,
 "nbformat_minor": 2
}
